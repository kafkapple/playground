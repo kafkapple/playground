{
 "cells": [
  {
   "cell_type": "code",
   "execution_count": 1,
   "metadata": {
    "collapsed": true
   },
   "outputs": [],
   "source": [
    "# \n",
    "import os\n",
    "import ntpath\n",
    "import glob \n",
    "\n",
    "#\n",
    "import numpy as np\n"
   ]
  },
  {
   "cell_type": "code",
   "execution_count": null,
   "metadata": {
    "collapsed": true
   },
   "outputs": [],
   "source": []
  },
  {
   "cell_type": "code",
   "execution_count": 2,
   "metadata": {},
   "outputs": [
    {
     "name": "stdout",
     "output_type": "stream",
     "text": [
      "1\n",
      "3\n",
      "4\n"
     ]
    }
   ],
   "source": [
    "#for\n",
    "a=[1,3,4]\n",
    "for cat in a:\n",
    "    print(cat)"
   ]
  },
  {
   "cell_type": "code",
   "execution_count": 3,
   "metadata": {},
   "outputs": [
    {
     "name": "stdout",
     "output_type": "stream",
     "text": [
      "b6\n",
      "icr\n",
      "129\n"
     ]
    }
   ],
   "source": [
    "mice = ['b6','icr','129']\n",
    "#count=0\n",
    "for i in mice:\n",
    "    #count+=1\n",
    "    print(i)#,count)"
   ]
  },
  {
   "cell_type": "code",
   "execution_count": 4,
   "metadata": {},
   "outputs": [
    {
     "data": {
      "text/plain": [
       "'129'"
      ]
     },
     "execution_count": 4,
     "metadata": {},
     "output_type": "execute_result"
    }
   ],
   "source": [
    "i"
   ]
  },
  {
   "cell_type": "code",
   "execution_count": 5,
   "metadata": {
    "scrolled": true
   },
   "outputs": [
    {
     "name": "stdout",
     "output_type": "stream",
     "text": [
      "0\n",
      "b6\n",
      "1\n",
      "icr\n",
      "2\n",
      "129\n"
     ]
    }
   ],
   "source": [
    "for i, i_mice in enumerate(mice):\n",
    "    print(i)\n",
    "    print(i_mice)"
   ]
  },
  {
   "cell_type": "code",
   "execution_count": 6,
   "metadata": {},
   "outputs": [
    {
     "name": "stdout",
     "output_type": "stream",
     "text": [
      "Get out\n"
     ]
    }
   ],
   "source": [
    "# if\n",
    "work_hr= 10\n",
    "\n",
    "if work_hr==70:\n",
    "    print('70 hours is standard')\n",
    "elif work_hr > 70:\n",
    "    print('Work harder')\n",
    "else:\n",
    "    print('Get out')"
   ]
  },
  {
   "cell_type": "code",
   "execution_count": 7,
   "metadata": {
    "scrolled": true
   },
   "outputs": [
    {
     "name": "stdout",
     "output_type": "stream",
     "text": [
      "9\n",
      "8\n",
      "7\n",
      "6\n",
      "5\n",
      "4\n",
      "3\n",
      "2\n",
      "1\n",
      "0\n",
      "-1\n"
     ]
    }
   ],
   "source": [
    "# while. Becareful for infinite loop!\n",
    "count_lp = 10\n",
    "\n",
    "while (True):\n",
    "    count_lp -= 1\n",
    "    print(count_lp)\n",
    "    if count_lp <0:\n",
    "        break"
   ]
  },
  {
   "cell_type": "code",
   "execution_count": 8,
   "metadata": {},
   "outputs": [
    {
     "data": {
      "text/plain": [
       "2"
      ]
     },
     "execution_count": 8,
     "metadata": {},
     "output_type": "execute_result"
    }
   ],
   "source": [
    "# string\n",
    "test = 'happy'\n",
    "test.find('p') # return index. -1 means no.\n",
    "test.find('p')\n"
   ]
  },
  {
   "cell_type": "code",
   "execution_count": 3,
   "metadata": {},
   "outputs": [
    {
     "name": "stdout",
     "output_type": "stream",
     "text": [
      "[]\n"
     ]
    }
   ],
   "source": [
    "\n",
    "os.chdir(path_data)\n",
    "#print(os.getcwd())\n",
    "#print(os.listdir())\n",
    "folder_list = glob.glob('./*.csv')\n",
    "print(folder_list)\n",
    "\n"
   ]
  },
  {
   "cell_type": "code",
   "execution_count": 4,
   "metadata": {},
   "outputs": [
    {
     "data": {
      "text/plain": [
       "'E:\\\\Behavior data\\\\FreezeFrame\\\\MeA\\\\20170816_fear_cond_MeA_ck2a\\\\0818_ret_cue'"
      ]
     },
     "execution_count": 4,
     "metadata": {},
     "output_type": "execute_result"
    }
   ],
   "source": [
    "#path_data2 = 'E:\\Behavior data\\FreezeFrame\\MeA\\20170816_fear_cond_MeA_ck2a\\0818_ret_cue'\n",
    "path_data2='/Behavior data/FreezeFrame/MeA/20170816_fear_cond_MeA_ck2a/0818_ret_cue/'\n",
    "os.chdir(path_data2)\n",
    "os.getcwd()"
   ]
  },
  {
   "cell_type": "code",
   "execution_count": 5,
   "metadata": {
    "collapsed": true
   },
   "outputs": [],
   "source": [
    "path_3 = 'E:\\\\' # drive letter\n",
    "os.chdir(path_3)\n",
    "os.getcwd()\n",
    "join_path = os.path.join(path_3,path_data2)\n",
    "os.chdir(join_path)"
   ]
  },
  {
   "cell_type": "code",
   "execution_count": 6,
   "metadata": {},
   "outputs": [
    {
     "name": "stdout",
     "output_type": "stream",
     "text": [
      "freeze_20170413_OFL_CK2KO_MeA.csv\n",
      "freeze_20170414_ret_OFL_CK2KO_MeA.csv\n",
      "freeze_20170424_MeA_CaMKIIa_KO_fear.csv\n",
      "freeze_20170425_ret_context_MeA_CaMKIIa_KO_fear.csv\n",
      "freeze_20170426_cue_ret_MeA_CaMKIIa_KO_fear.csv\n",
      "freeze_20170805_ck2_MeA_OFL.csv\n",
      "freeze_20170806_ret_ck2_MeA_OFL.csv\n",
      "freeze_20170816_fear_cond_MeA_ck2a.csv\n",
      "freeze_20170817_ret_context_fear_cond_MeA_ck2a.csv\n",
      "freeze_20170818_ret_cue_fear_cond_MeA_ck2a.csv\n",
      "csv 파일 수는 10개\n",
      "\n",
      "E:\\Behavior data\\FreezeFrame\\MeA\n",
      "[]\n"
     ]
    }
   ],
   "source": [
    "path_data = 'E:\\Behavior data\\FreezeFrame\\MeA' # becareful \n",
    "os.getcwd() # current directory\n",
    "os.listdir() #current lists\n",
    "\n",
    "path_list=[]\n",
    "file_list=[]\n",
    "count=0\n",
    "\n",
    "for (path, _, files) in os.walk(path_data): # walk: 계속 깊이 들어갈 수 있음. glob 도 가능은 함\n",
    "    path_list.append(path)\n",
    "    file_list.append(files)\n",
    "    \n",
    "    #print(len(glob.glob(path+'/*.csv')))\n",
    "    \n",
    "    for filename in files:\n",
    "        ext = os.path.splitext(filename)[-1]\n",
    "        #print(ext)\n",
    "        if ext == '.csv': # csv 확장자일 때\n",
    "            print(filename) # 파일 이름 출력\n",
    "            count+=1 \n",
    "print('csv 파일 수는 {}개\\n'.format(count))\n",
    "            \n",
    "idx=0\n",
    "\n",
    "print(path_list[idx])\n",
    "print(file_list[idx])"
   ]
  },
  {
   "cell_type": "code",
   "execution_count": null,
   "metadata": {
    "collapsed": true
   },
   "outputs": [],
   "source": []
  },
  {
   "cell_type": "code",
   "execution_count": 39,
   "metadata": {},
   "outputs": [
    {
     "data": {
      "text/plain": [
       "'E:\\\\Behavior data\\\\FreezeFrame\\\\MeA'"
      ]
     },
     "execution_count": 39,
     "metadata": {},
     "output_type": "execute_result"
    }
   ],
   "source": [
    "import pathlib\n",
    "drive = pathlib.Path.cwd()\n",
    "#print(drive)\n",
    "os.chdir(path_data)\n",
    "path_data\n",
    "os.getcwd()"
   ]
  },
  {
   "cell_type": "code",
   "execution_count": 33,
   "metadata": {},
   "outputs": [
    {
     "data": {
      "text/plain": [
       "'F:\\\\github\\\\test\\\\py\\\\__pycache__'"
      ]
     },
     "execution_count": 33,
     "metadata": {},
     "output_type": "execute_result"
    }
   ],
   "source": [
    "path"
   ]
  }
 ],
 "metadata": {
  "kernelspec": {
   "display_name": "Python 3",
   "language": "python",
   "name": "python3"
  },
  "language_info": {
   "codemirror_mode": {
    "name": "ipython",
    "version": 3
   },
   "file_extension": ".py",
   "mimetype": "text/x-python",
   "name": "python",
   "nbconvert_exporter": "python",
   "pygments_lexer": "ipython3",
   "version": "3.6.3"
  }
 },
 "nbformat": 4,
 "nbformat_minor": 2
}
