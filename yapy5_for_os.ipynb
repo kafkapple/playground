{
 "cells": [
  {
   "cell_type": "code",
   "execution_count": 29,
   "metadata": {
    "collapsed": true
   },
   "outputs": [],
   "source": [
    "import os\n",
    "import glob \n",
    "import numpy as np\n",
    "import pandas as pd"
   ]
  },
  {
   "cell_type": "code",
   "execution_count": 7,
   "metadata": {},
   "outputs": [],
   "source": [
    "a=range(n_mice)"
   ]
  },
  {
   "cell_type": "code",
   "execution_count": 11,
   "metadata": {},
   "outputs": [
    {
     "data": {
      "text/plain": [
       "array([0, 1, 2])"
      ]
     },
     "execution_count": 11,
     "metadata": {},
     "output_type": "execute_result"
    }
   ],
   "source": []
  },
  {
   "cell_type": "code",
   "execution_count": 17,
   "metadata": {},
   "outputs": [
    {
     "name": "stdout",
     "output_type": "stream",
     "text": [
      "1 1\n",
      "2 2\n",
      "3 3\n"
     ]
    }
   ],
   "source": [
    "data_mice = ['b6j','balbc','129']\n",
    "\n",
    "\n",
    "count_chk = 1\n",
    "n_mice = len(data_mice)\n",
    "\n",
    "for mouse in range(n_mice):\n",
    "    print(mouse+1, count_chk)\n",
    "    count_chk += 1\n"
   ]
  },
  {
   "cell_type": "code",
   "execution_count": 20,
   "metadata": {},
   "outputs": [
    {
     "name": "stdout",
     "output_type": "stream",
     "text": [
      "1 b6j\n",
      "2 balbc\n",
      "3 129\n"
     ]
    }
   ],
   "source": [
    "count_chk=1\n",
    "for mouse in data_mice:\n",
    "    print(count_chk, mouse)\n",
    "    count_chk += 1\n",
    "    "
   ]
  },
  {
   "cell_type": "code",
   "execution_count": 22,
   "metadata": {
    "scrolled": true
   },
   "outputs": [
    {
     "name": "stdout",
     "output_type": "stream",
     "text": [
      "1 b6j\n",
      "2 balbc\n",
      "3 129\n"
     ]
    }
   ],
   "source": [
    "for i, i_mouse in enumerate(data_mice):\n",
    "    print(i+1, i_mouse)"
   ]
  },
  {
   "cell_type": "code",
   "execution_count": 25,
   "metadata": {},
   "outputs": [
    {
     "name": "stdout",
     "output_type": "stream",
     "text": [
      "70 hours is standard\n"
     ]
    }
   ],
   "source": [
    "# if\n",
    "work_hr= 70\n",
    "\n",
    "if work_hr==70:\n",
    "    print('70 hours is standard')\n",
    "elif work_hr > 70:\n",
    "    print('Work harder')\n",
    "else:\n",
    "    print('Get out')"
   ]
  },
  {
   "cell_type": "code",
   "execution_count": 9,
   "metadata": {
    "scrolled": true
   },
   "outputs": [
    {
     "name": "stdout",
     "output_type": "stream",
     "text": [
      "10\n",
      "9\n",
      "8\n",
      "7\n",
      "6\n",
      "5\n",
      "4\n",
      "3\n",
      "2\n",
      "1\n",
      "0\n"
     ]
    }
   ],
   "source": [
    "# while. Becareful for infinite loop!\n",
    "count_lp = 10\n",
    "\n",
    "while (True):\n",
    "    \n",
    "    print(count_lp)\n",
    "    \n",
    "    count_lp -= 1\n",
    "    if count_lp <0:\n",
    "        break"
   ]
  },
  {
   "cell_type": "code",
   "execution_count": 13,
   "metadata": {},
   "outputs": [
    {
     "data": {
      "text/plain": [
       "'1'"
      ]
     },
     "execution_count": 13,
     "metadata": {},
     "output_type": "execute_result"
    }
   ],
   "source": [
    "# string\n",
    "test = '1020_batch1_'\n",
    "idx = test.find('batch') # return index. -1 means no.\n",
    "#test.find('p')\n",
    "test[idx+5]"
   ]
  },
  {
   "cell_type": "code",
   "execution_count": 26,
   "metadata": {},
   "outputs": [
    {
     "name": "stdout",
     "output_type": "stream",
     "text": [
      "E:\\0Temp_data\n",
      "['.\\\\freeze_20160218_OFL_CaMKIIa floxed cre virus.csv', '.\\\\freeze_20180508_conext_fear_CeA_1st.csv', '.\\\\freeze_20180508_context_fear_PVT_2nd.csv', '.\\\\freeze_20180515_ret_1wk_conext_fear_CeA_1st.csv', '.\\\\freeze_20180515_ret_1wk_emx1_context_fear_PVT_2nd.csv', '.\\\\freeze_2180501_context_fear_pvt_1st.csv', '.\\\\freeze_2180508_1-wk_ret_context_fear_pvt_1st.csv']\n"
     ]
    }
   ],
   "source": [
    "### 1. dir change\n",
    "\n",
    "dir_location = r'E:\\0Temp_data'\n",
    "\n",
    "os.chdir(dir_location) # change directory \n",
    "\n",
    "### 2. dir confirm\n",
    "print(os.getcwd()) # get current working directory\n",
    "\n",
    "#### 3. csv file load from current dir\n",
    "### 3.1. file name list\n",
    "file_list = glob.glob('./*.csv')\n",
    "print(file_list)\n"
   ]
  },
  {
   "cell_type": "code",
   "execution_count": 30,
   "metadata": {},
   "outputs": [
    {
     "name": "stdout",
     "output_type": "stream",
     "text": [
      "< 1 > .\\freeze_20180508_conext_fear_CeA_1st.csv \n",
      "    % freeze  Unnamed: 1  Unnamed: 2  Unnamed: 3  Unnamed: 4  Unnamed: 5  \\\n",
      "0     Onset         0.0        60.0       120.0       180.0       240.0   \n",
      "1  Duration        60.0        60.0        60.0        60.0        60.0   \n",
      "\n",
      "   Unnamed: 6 Unnamed: 7  Unnamed: 8     Unnamed: 9  Unnamed: 10 Unnamed: 11  \\\n",
      "0         NaN  Threshold         NaN  Bout duration          NaN    Protocol   \n",
      "1         NaN        NaN         NaN            NaN          NaN         NaN   \n",
      "\n",
      "   Unnamed: 12  \n",
      "0          NaN  \n",
      "1          NaN   \n",
      "\n",
      "\n",
      "< 2 > .\\freeze_20180508_context_fear_PVT_2nd.csv \n",
      "    % freeze  Unnamed: 1  Unnamed: 2  Unnamed: 3  Unnamed: 4  Unnamed: 5  \\\n",
      "0     Onset         0.0        60.0       120.0       180.0       240.0   \n",
      "1  Duration        60.0        60.0        60.0        60.0        60.0   \n",
      "\n",
      "   Unnamed: 6 Unnamed: 7  Unnamed: 8     Unnamed: 9  Unnamed: 10 Unnamed: 11  \\\n",
      "0         NaN  Threshold         NaN  Bout duration          NaN    Protocol   \n",
      "1         NaN        NaN         NaN            NaN          NaN         NaN   \n",
      "\n",
      "   Unnamed: 12  \n",
      "0          NaN  \n",
      "1          NaN   \n",
      "\n",
      "\n",
      "< 3 > .\\freeze_20180515_ret_1wk_conext_fear_CeA_1st.csv \n",
      "    % freeze  Unnamed: 1  Unnamed: 2  Unnamed: 3 Unnamed: 4  Unnamed: 5  \\\n",
      "0     Onset         0.0        60.0         NaN  Threshold         NaN   \n",
      "1  Duration        60.0        60.0         NaN        NaN         NaN   \n",
      "\n",
      "      Unnamed: 6  Unnamed: 7 Unnamed: 8  Unnamed: 9  \n",
      "0  Bout duration         NaN   Protocol         NaN  \n",
      "1            NaN         NaN        NaN         NaN   \n",
      "\n",
      "\n",
      "< 4 > .\\freeze_20180515_ret_1wk_emx1_context_fear_PVT_2nd.csv \n",
      "    % freeze  Unnamed: 1  Unnamed: 2  Unnamed: 3 Unnamed: 4  Unnamed: 5  \\\n",
      "0     Onset         0.0        60.0         NaN  Threshold         NaN   \n",
      "1  Duration        60.0        60.0         NaN        NaN         NaN   \n",
      "\n",
      "      Unnamed: 6  Unnamed: 7 Unnamed: 8  Unnamed: 9  \n",
      "0  Bout duration         NaN   Protocol         NaN  \n",
      "1            NaN         NaN        NaN         NaN   \n",
      "\n",
      "\n",
      "< 5 > .\\freeze_2180501_context_fear_pvt_1st.csv \n",
      "    % freeze  Unnamed: 1  Unnamed: 2  Unnamed: 3  Unnamed: 4  Unnamed: 5  \\\n",
      "0     Onset         0.0        60.0       120.0       180.0       240.0   \n",
      "1  Duration        60.0        60.0        60.0        60.0        60.0   \n",
      "\n",
      "   Unnamed: 6 Unnamed: 7  Unnamed: 8     Unnamed: 9  Unnamed: 10 Unnamed: 11  \\\n",
      "0         NaN  Threshold         NaN  Bout duration          NaN    Protocol   \n",
      "1         NaN        NaN         NaN            NaN          NaN         NaN   \n",
      "\n",
      "   Unnamed: 12  \n",
      "0          NaN  \n",
      "1          NaN   \n",
      "\n",
      "\n",
      "< 6 > .\\freeze_2180508_1-wk_ret_context_fear_pvt_1st.csv \n",
      "    % freeze  Unnamed: 1  Unnamed: 2  Unnamed: 3 Unnamed: 4  Unnamed: 5  \\\n",
      "0     Onset         0.0        60.0         NaN  Threshold         NaN   \n",
      "1  Duration        60.0        60.0         NaN        NaN         NaN   \n",
      "\n",
      "      Unnamed: 6  Unnamed: 7 Unnamed: 8  Unnamed: 9  \n",
      "0  Bout duration         NaN   Protocol         NaN  \n",
      "1            NaN         NaN        NaN         NaN   \n",
      "\n",
      "\n"
     ]
    }
   ],
   "source": [
    "### 3.2. Actual data load from file name list\n",
    "data_list = []\n",
    "count = 1\n",
    "\n",
    "for i_file in file_list:\n",
    "    if not 'OFL' in i_file:\n",
    "        temp = pd.read_csv(i_file)\n",
    "        data_list.append(temp)\n",
    "        #print('<', count,'>', i_file, '\\n', temp.head(2),'\\n'*2) # print form debug\n",
    "        count+=1"
   ]
  },
  {
   "cell_type": "code",
   "execution_count": 31,
   "metadata": {},
   "outputs": [
    {
     "data": {
      "text/html": [
       "<div>\n",
       "<style scoped>\n",
       "    .dataframe tbody tr th:only-of-type {\n",
       "        vertical-align: middle;\n",
       "    }\n",
       "\n",
       "    .dataframe tbody tr th {\n",
       "        vertical-align: top;\n",
       "    }\n",
       "\n",
       "    .dataframe thead th {\n",
       "        text-align: right;\n",
       "    }\n",
       "</style>\n",
       "<table border=\"1\" class=\"dataframe\">\n",
       "  <thead>\n",
       "    <tr style=\"text-align: right;\">\n",
       "      <th></th>\n",
       "      <th>% freeze</th>\n",
       "      <th>Unnamed: 1</th>\n",
       "      <th>Unnamed: 2</th>\n",
       "      <th>Unnamed: 3</th>\n",
       "      <th>Unnamed: 4</th>\n",
       "      <th>Unnamed: 5</th>\n",
       "      <th>Unnamed: 6</th>\n",
       "      <th>Unnamed: 7</th>\n",
       "      <th>Unnamed: 8</th>\n",
       "      <th>Unnamed: 9</th>\n",
       "    </tr>\n",
       "  </thead>\n",
       "  <tbody>\n",
       "    <tr>\n",
       "      <th>0</th>\n",
       "      <td>Onset</td>\n",
       "      <td>0.00</td>\n",
       "      <td>60.00</td>\n",
       "      <td>NaN</td>\n",
       "      <td>Threshold</td>\n",
       "      <td>NaN</td>\n",
       "      <td>Bout duration</td>\n",
       "      <td>NaN</td>\n",
       "      <td>Protocol</td>\n",
       "      <td>NaN</td>\n",
       "    </tr>\n",
       "    <tr>\n",
       "      <th>1</th>\n",
       "      <td>Duration</td>\n",
       "      <td>60.00</td>\n",
       "      <td>60.00</td>\n",
       "      <td>NaN</td>\n",
       "      <td>NaN</td>\n",
       "      <td>NaN</td>\n",
       "      <td>NaN</td>\n",
       "      <td>NaN</td>\n",
       "      <td>NaN</td>\n",
       "      <td>NaN</td>\n",
       "    </tr>\n",
       "    <tr>\n",
       "      <th>2</th>\n",
       "      <td>1-1ctrl</td>\n",
       "      <td>24.44</td>\n",
       "      <td>40.94</td>\n",
       "      <td>NaN</td>\n",
       "      <td>30.00</td>\n",
       "      <td>NaN</td>\n",
       "      <td>1.50</td>\n",
       "      <td>NaN</td>\n",
       "      <td>jj_context_recall_remote</td>\n",
       "      <td>NaN</td>\n",
       "    </tr>\n",
       "    <tr>\n",
       "      <th>3</th>\n",
       "      <td>1-2cre</td>\n",
       "      <td>16.18</td>\n",
       "      <td>49.10</td>\n",
       "      <td>NaN</td>\n",
       "      <td>30.00</td>\n",
       "      <td>NaN</td>\n",
       "      <td>NaN</td>\n",
       "      <td>NaN</td>\n",
       "      <td>jj_context_recall_remote</td>\n",
       "      <td>NaN</td>\n",
       "    </tr>\n",
       "    <tr>\n",
       "      <th>4</th>\n",
       "      <td>1-3cre</td>\n",
       "      <td>47.66</td>\n",
       "      <td>57.27</td>\n",
       "      <td>NaN</td>\n",
       "      <td>30.00</td>\n",
       "      <td>NaN</td>\n",
       "      <td>NaN</td>\n",
       "      <td>NaN</td>\n",
       "      <td>jj_context_recall_remote</td>\n",
       "      <td>NaN</td>\n",
       "    </tr>\n",
       "  </tbody>\n",
       "</table>\n",
       "</div>"
      ],
      "text/plain": [
       "   % freeze  Unnamed: 1  Unnamed: 2  Unnamed: 3 Unnamed: 4  Unnamed: 5  \\\n",
       "0     Onset        0.00       60.00         NaN  Threshold         NaN   \n",
       "1  Duration       60.00       60.00         NaN        NaN         NaN   \n",
       "2   1-1ctrl       24.44       40.94         NaN      30.00         NaN   \n",
       "3    1-2cre       16.18       49.10         NaN      30.00         NaN   \n",
       "4    1-3cre       47.66       57.27         NaN      30.00         NaN   \n",
       "\n",
       "      Unnamed: 6  Unnamed: 7                Unnamed: 8  Unnamed: 9  \n",
       "0  Bout duration         NaN                  Protocol         NaN  \n",
       "1            NaN         NaN                       NaN         NaN  \n",
       "2           1.50         NaN  jj_context_recall_remote         NaN  \n",
       "3            NaN         NaN  jj_context_recall_remote         NaN  \n",
       "4            NaN         NaN  jj_context_recall_remote         NaN  "
      ]
     },
     "execution_count": 31,
     "metadata": {},
     "output_type": "execute_result"
    }
   ],
   "source": [
    "data_list[2]"
   ]
  },
  {
   "cell_type": "code",
   "execution_count": null,
   "metadata": {
    "collapsed": true
   },
   "outputs": [],
   "source": [
    "\n",
    "os.chdir(path_data)\n",
    "#print(os.getcwd())\n",
    "#print(os.listdir())\n",
    "folder_list = glob.glob('./*.csv')\n",
    "print(folder_list)"
   ]
  },
  {
   "cell_type": "code",
   "execution_count": 4,
   "metadata": {},
   "outputs": [
    {
     "data": {
      "text/plain": [
       "'E:\\\\Behavior data\\\\FreezeFrame\\\\MeA\\\\20170816_fear_cond_MeA_ck2a\\\\0818_ret_cue'"
      ]
     },
     "execution_count": 4,
     "metadata": {},
     "output_type": "execute_result"
    }
   ],
   "source": [
    "#path_data2 = 'E:\\Behavior data\\FreezeFrame\\MeA\\20170816_fear_cond_MeA_ck2a\\0818_ret_cue'\n",
    "path_data2='/Behavior data/FreezeFrame/MeA/20170816_fear_cond_MeA_ck2a/0818_ret_cue/'\n",
    "os.chdir(path_data2)\n",
    "os.getcwd()"
   ]
  },
  {
   "cell_type": "code",
   "execution_count": 5,
   "metadata": {
    "collapsed": true
   },
   "outputs": [],
   "source": [
    "path_3 = 'E:\\\\' # drive letter\n",
    "os.chdir(path_3)\n",
    "os.getcwd()\n",
    "join_path = os.path.join(path_3,path_data2)\n",
    "os.chdir(join_path)"
   ]
  },
  {
   "cell_type": "code",
   "execution_count": 6,
   "metadata": {},
   "outputs": [
    {
     "name": "stdout",
     "output_type": "stream",
     "text": [
      "freeze_20170413_OFL_CK2KO_MeA.csv\n",
      "freeze_20170414_ret_OFL_CK2KO_MeA.csv\n",
      "freeze_20170424_MeA_CaMKIIa_KO_fear.csv\n",
      "freeze_20170425_ret_context_MeA_CaMKIIa_KO_fear.csv\n",
      "freeze_20170426_cue_ret_MeA_CaMKIIa_KO_fear.csv\n",
      "freeze_20170805_ck2_MeA_OFL.csv\n",
      "freeze_20170806_ret_ck2_MeA_OFL.csv\n",
      "freeze_20170816_fear_cond_MeA_ck2a.csv\n",
      "freeze_20170817_ret_context_fear_cond_MeA_ck2a.csv\n",
      "freeze_20170818_ret_cue_fear_cond_MeA_ck2a.csv\n",
      "csv 파일 수는 10개\n",
      "\n",
      "E:\\Behavior data\\FreezeFrame\\MeA\n",
      "[]\n"
     ]
    }
   ],
   "source": [
    "path_data = 'E:\\Behavior data\\FreezeFrame\\MeA' # becareful \n",
    "os.getcwd() # current directory\n",
    "os.listdir() #current lists\n",
    "\n",
    "path_list=[]\n",
    "file_list=[]\n",
    "count=0\n",
    "\n",
    "for (path, _, files) in os.walk(path_data): # walk: 계속 깊이 들어갈 수 있음. glob 도 가능은 함\n",
    "    path_list.append(path)\n",
    "    file_list.append(files)\n",
    "    \n",
    "    #print(len(glob.glob(path+'/*.csv')))\n",
    "    \n",
    "    for filename in files:\n",
    "        ext = os.path.splitext(filename)[-1]\n",
    "        #print(ext)\n",
    "        if ext == '.csv': # csv 확장자일 때\n",
    "            print(filename) # 파일 이름 출력\n",
    "            count+=1 \n",
    "print('csv 파일 수는 {}개\\n'.format(count))\n",
    "            \n",
    "idx=0\n",
    "\n",
    "print(path_list[idx])\n",
    "print(file_list[idx])"
   ]
  },
  {
   "cell_type": "code",
   "execution_count": null,
   "metadata": {
    "collapsed": true
   },
   "outputs": [],
   "source": []
  },
  {
   "cell_type": "code",
   "execution_count": 39,
   "metadata": {},
   "outputs": [
    {
     "data": {
      "text/plain": [
       "'E:\\\\Behavior data\\\\FreezeFrame\\\\MeA'"
      ]
     },
     "execution_count": 39,
     "metadata": {},
     "output_type": "execute_result"
    }
   ],
   "source": [
    "import pathlib\n",
    "drive = pathlib.Path.cwd()\n",
    "#print(drive)\n",
    "os.chdir(path_data)\n",
    "path_data\n",
    "os.getcwd()"
   ]
  },
  {
   "cell_type": "code",
   "execution_count": 33,
   "metadata": {},
   "outputs": [
    {
     "data": {
      "text/plain": [
       "'F:\\\\github\\\\test\\\\py\\\\__pycache__'"
      ]
     },
     "execution_count": 33,
     "metadata": {},
     "output_type": "execute_result"
    }
   ],
   "source": [
    "path"
   ]
  }
 ],
 "metadata": {
  "kernelspec": {
   "display_name": "Python 3",
   "language": "python",
   "name": "python3"
  }
 },
 "nbformat": 4,
 "nbformat_minor": 2
}
