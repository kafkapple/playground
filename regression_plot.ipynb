{
 "cells": [
  {
   "cell_type": "code",
   "execution_count": 101,
   "metadata": {
    "collapsed": true
   },
   "outputs": [],
   "source": [
    "import pandas as pd\n",
    "#ata = '/python/data/1115_tube_ofl_2.csv' #ofl_rank2.csv'\n",
    "import os\n",
    "os.chdir('/0GoogleDrive/Research/Result/tube/')\n",
    "data = 'temp.xlsx'\n",
    "df = pd.read_excel(data)\n"
   ]
  },
  {
   "cell_type": "code",
   "execution_count": 128,
   "metadata": {},
   "outputs": [
    {
     "data": {
      "text/plain": [
       "'T'"
      ]
     },
     "execution_count": 128,
     "metadata": {},
     "output_type": "execute_result"
    }
   ],
   "source": [
    "ss =r'E:\\0Temp_data\\Tube\\tube_OFL\\20181115_tube_OFL_batch2'\n",
    "#os.path.split(ss)\n",
    "os.chdir(ss)\n",
    "ii = ss.find('Temp')\n",
    "ss[ii]"
   ]
  },
  {
   "cell_type": "code",
   "execution_count": 125,
   "metadata": {},
   "outputs": [],
   "source": [
    "ofl=np.array(0)\n",
    "\n",
    "a=pd.DataFrame()\n",
    "#s = type(a)\n",
    "len(ofl.shape)\n",
    "len(a.shape)\n",
    "a=np.array(0)"
   ]
  },
  {
   "cell_type": "code",
   "execution_count": 126,
   "metadata": {},
   "outputs": [
    {
     "ename": "AttributeError",
     "evalue": "'numpy.ndarray' object has no attribute 'append'",
     "output_type": "error",
     "traceback": [
      "\u001b[1;31m---------------------------------------------------------------------------\u001b[0m",
      "\u001b[1;31mAttributeError\u001b[0m                            Traceback (most recent call last)",
      "\u001b[1;32m<ipython-input-126-767b29e51296>\u001b[0m in \u001b[0;36m<module>\u001b[1;34m()\u001b[0m\n\u001b[1;32m----> 1\u001b[1;33m \u001b[0ma\u001b[0m\u001b[1;33m.\u001b[0m\u001b[0mappend\u001b[0m\u001b[1;33m(\u001b[0m\u001b[1;33m[\u001b[0m\u001b[1;36m1\u001b[0m\u001b[1;33m,\u001b[0m\u001b[1;36m3\u001b[0m\u001b[1;33m]\u001b[0m\u001b[1;33m)\u001b[0m\u001b[1;33m\u001b[0m\u001b[0m\n\u001b[0m",
      "\u001b[1;31mAttributeError\u001b[0m: 'numpy.ndarray' object has no attribute 'append'"
     ]
    }
   ],
   "source": [
    "a.append([1,3])\n",
    "np.a"
   ]
  },
  {
   "cell_type": "code",
   "execution_count": 102,
   "metadata": {
    "scrolled": true
   },
   "outputs": [],
   "source": [
    "### _ 찾으면 직전까지가 날짜. 그다음 batch 찾아서 그 다음숫자가 배치 번호\n",
    "\n",
    "##### cage 별로 접근할것 따로.\n",
    "# ex) variability, dob 등?\n",
    "\n",
    "# 자잘한 raw data  와 avg 등 주로 쓰는 것 따로 저장하기\n",
    "\n",
    "# 한번 들어가 csv 찾아 OFL obs / dem, ret 폴더 가서 csv로 ret 정보도\n",
    "\n",
    "############### 1. baseline threshold 정하기. peak 값 등.\n",
    "base_thr = 10\n",
    "df = df[df['baseline']<base_thr]\n",
    "#df1 = df1[df1['subdom']!=0]\n",
    "\n",
    "## subject id. \n",
    "# experiment # batch # cage # no\n",
    "sub_list = ['batch','cage','no']\n",
    "df.insert(0,column='subject',value='')\n",
    "#df.drop(columns='23') #제거\n",
    "for i in df.index:\n",
    "    temp = df.loc[i,:]\n",
    "    sub_temp=''\n",
    "    subject = [int(temp[j]) for j in sub_list]\n",
    "    subject =''.join(str(k) for k in subject)\n",
    "    df.loc[i,'subject']=subject    \n",
    "## df.loc[:,['batch','cage']]\n",
    "\n",
    "# batch / cage\n",
    "# age cal\n",
    "\n",
    "## rank by win no.\n",
    "#df['win']\n",
    "\n",
    "\n",
    "## sub dom\n",
    "df.loc[df['rank']<3,'subdom']='dom'\n",
    "df.loc[df['rank']>3,'subdom']='sub'\n",
    "\n",
    "#df.reindex(columns=['subject'])"
   ]
  },
  {
   "cell_type": "code",
   "execution_count": 103,
   "metadata": {},
   "outputs": [
    {
     "data": {
      "text/html": [
       "<div>\n",
       "<style scoped>\n",
       "    .dataframe tbody tr th:only-of-type {\n",
       "        vertical-align: middle;\n",
       "    }\n",
       "\n",
       "    .dataframe tbody tr th {\n",
       "        vertical-align: top;\n",
       "    }\n",
       "\n",
       "    .dataframe thead th {\n",
       "        text-align: right;\n",
       "    }\n",
       "</style>\n",
       "<table border=\"1\" class=\"dataframe\">\n",
       "  <thead>\n",
       "    <tr style=\"text-align: right;\">\n",
       "      <th></th>\n",
       "      <th>subject</th>\n",
       "      <th>batch</th>\n",
       "      <th>cage</th>\n",
       "      <th>no</th>\n",
       "      <th>weight</th>\n",
       "      <th>win</th>\n",
       "      <th>rank</th>\n",
       "      <th>subdom</th>\n",
       "      <th>baseline</th>\n",
       "      <th>ofl</th>\n",
       "    </tr>\n",
       "  </thead>\n",
       "  <tbody>\n",
       "    <tr>\n",
       "      <th>1</th>\n",
       "      <td>112</td>\n",
       "      <td>1</td>\n",
       "      <td>1</td>\n",
       "      <td>2</td>\n",
       "      <td>24.6</td>\n",
       "      <td>2</td>\n",
       "      <td>3</td>\n",
       "      <td>0</td>\n",
       "      <td>2.082</td>\n",
       "      <td>12.2975</td>\n",
       "    </tr>\n",
       "    <tr>\n",
       "      <th>2</th>\n",
       "      <td>113</td>\n",
       "      <td>1</td>\n",
       "      <td>1</td>\n",
       "      <td>3</td>\n",
       "      <td>25.8</td>\n",
       "      <td>4</td>\n",
       "      <td>1</td>\n",
       "      <td>dom</td>\n",
       "      <td>1.072</td>\n",
       "      <td>1.3700</td>\n",
       "    </tr>\n",
       "    <tr>\n",
       "      <th>3</th>\n",
       "      <td>114</td>\n",
       "      <td>1</td>\n",
       "      <td>1</td>\n",
       "      <td>4</td>\n",
       "      <td>22.5</td>\n",
       "      <td>0</td>\n",
       "      <td>5</td>\n",
       "      <td>sub</td>\n",
       "      <td>3.060</td>\n",
       "      <td>4.6950</td>\n",
       "    </tr>\n",
       "    <tr>\n",
       "      <th>4</th>\n",
       "      <td>115</td>\n",
       "      <td>1</td>\n",
       "      <td>1</td>\n",
       "      <td>5</td>\n",
       "      <td>23.7</td>\n",
       "      <td>1</td>\n",
       "      <td>4</td>\n",
       "      <td>sub</td>\n",
       "      <td>1.902</td>\n",
       "      <td>18.7850</td>\n",
       "    </tr>\n",
       "    <tr>\n",
       "      <th>6</th>\n",
       "      <td>122</td>\n",
       "      <td>1</td>\n",
       "      <td>2</td>\n",
       "      <td>2</td>\n",
       "      <td>25.1</td>\n",
       "      <td>2</td>\n",
       "      <td>3</td>\n",
       "      <td>0</td>\n",
       "      <td>2.776</td>\n",
       "      <td>6.1250</td>\n",
       "    </tr>\n",
       "    <tr>\n",
       "      <th>7</th>\n",
       "      <td>123</td>\n",
       "      <td>1</td>\n",
       "      <td>2</td>\n",
       "      <td>3</td>\n",
       "      <td>27.4</td>\n",
       "      <td>0</td>\n",
       "      <td>5</td>\n",
       "      <td>sub</td>\n",
       "      <td>3.936</td>\n",
       "      <td>12.1300</td>\n",
       "    </tr>\n",
       "    <tr>\n",
       "      <th>8</th>\n",
       "      <td>124</td>\n",
       "      <td>1</td>\n",
       "      <td>2</td>\n",
       "      <td>4</td>\n",
       "      <td>26.9</td>\n",
       "      <td>4</td>\n",
       "      <td>1</td>\n",
       "      <td>dom</td>\n",
       "      <td>3.780</td>\n",
       "      <td>8.4550</td>\n",
       "    </tr>\n",
       "    <tr>\n",
       "      <th>9</th>\n",
       "      <td>125</td>\n",
       "      <td>1</td>\n",
       "      <td>2</td>\n",
       "      <td>5</td>\n",
       "      <td>26.3</td>\n",
       "      <td>3</td>\n",
       "      <td>2</td>\n",
       "      <td>dom</td>\n",
       "      <td>6.954</td>\n",
       "      <td>10.5000</td>\n",
       "    </tr>\n",
       "    <tr>\n",
       "      <th>10</th>\n",
       "      <td>141</td>\n",
       "      <td>1</td>\n",
       "      <td>4</td>\n",
       "      <td>1</td>\n",
       "      <td>27.4</td>\n",
       "      <td>2</td>\n",
       "      <td>3</td>\n",
       "      <td>0</td>\n",
       "      <td>2.324</td>\n",
       "      <td>13.4825</td>\n",
       "    </tr>\n",
       "    <tr>\n",
       "      <th>11</th>\n",
       "      <td>142</td>\n",
       "      <td>1</td>\n",
       "      <td>4</td>\n",
       "      <td>2</td>\n",
       "      <td>27.3</td>\n",
       "      <td>4</td>\n",
       "      <td>1</td>\n",
       "      <td>dom</td>\n",
       "      <td>3.040</td>\n",
       "      <td>7.2375</td>\n",
       "    </tr>\n",
       "    <tr>\n",
       "      <th>12</th>\n",
       "      <td>143</td>\n",
       "      <td>1</td>\n",
       "      <td>4</td>\n",
       "      <td>3</td>\n",
       "      <td>27.1</td>\n",
       "      <td>1</td>\n",
       "      <td>4</td>\n",
       "      <td>sub</td>\n",
       "      <td>0.736</td>\n",
       "      <td>2.1525</td>\n",
       "    </tr>\n",
       "    <tr>\n",
       "      <th>13</th>\n",
       "      <td>144</td>\n",
       "      <td>1</td>\n",
       "      <td>4</td>\n",
       "      <td>4</td>\n",
       "      <td>27.0</td>\n",
       "      <td>3</td>\n",
       "      <td>2</td>\n",
       "      <td>dom</td>\n",
       "      <td>2.148</td>\n",
       "      <td>4.0000</td>\n",
       "    </tr>\n",
       "    <tr>\n",
       "      <th>14</th>\n",
       "      <td>145</td>\n",
       "      <td>1</td>\n",
       "      <td>4</td>\n",
       "      <td>5</td>\n",
       "      <td>27.2</td>\n",
       "      <td>0</td>\n",
       "      <td>5</td>\n",
       "      <td>sub</td>\n",
       "      <td>0.402</td>\n",
       "      <td>5.3425</td>\n",
       "    </tr>\n",
       "    <tr>\n",
       "      <th>15</th>\n",
       "      <td>211</td>\n",
       "      <td>2</td>\n",
       "      <td>1</td>\n",
       "      <td>1</td>\n",
       "      <td>30.0</td>\n",
       "      <td>1</td>\n",
       "      <td>4</td>\n",
       "      <td>sub</td>\n",
       "      <td>2.616</td>\n",
       "      <td>10.8725</td>\n",
       "    </tr>\n",
       "    <tr>\n",
       "      <th>16</th>\n",
       "      <td>212</td>\n",
       "      <td>2</td>\n",
       "      <td>1</td>\n",
       "      <td>2</td>\n",
       "      <td>27.0</td>\n",
       "      <td>1</td>\n",
       "      <td>4</td>\n",
       "      <td>sub</td>\n",
       "      <td>5.456</td>\n",
       "      <td>1.8450</td>\n",
       "    </tr>\n",
       "    <tr>\n",
       "      <th>17</th>\n",
       "      <td>213</td>\n",
       "      <td>2</td>\n",
       "      <td>1</td>\n",
       "      <td>3</td>\n",
       "      <td>31.0</td>\n",
       "      <td>3</td>\n",
       "      <td>1</td>\n",
       "      <td>dom</td>\n",
       "      <td>8.950</td>\n",
       "      <td>36.7700</td>\n",
       "    </tr>\n",
       "    <tr>\n",
       "      <th>18</th>\n",
       "      <td>214</td>\n",
       "      <td>2</td>\n",
       "      <td>1</td>\n",
       "      <td>4</td>\n",
       "      <td>29.0</td>\n",
       "      <td>3</td>\n",
       "      <td>1</td>\n",
       "      <td>dom</td>\n",
       "      <td>4.922</td>\n",
       "      <td>9.1375</td>\n",
       "    </tr>\n",
       "    <tr>\n",
       "      <th>19</th>\n",
       "      <td>215</td>\n",
       "      <td>2</td>\n",
       "      <td>1</td>\n",
       "      <td>5</td>\n",
       "      <td>30.0</td>\n",
       "      <td>2</td>\n",
       "      <td>3</td>\n",
       "      <td>0</td>\n",
       "      <td>0.692</td>\n",
       "      <td>3.2750</td>\n",
       "    </tr>\n",
       "    <tr>\n",
       "      <th>20</th>\n",
       "      <td>221</td>\n",
       "      <td>2</td>\n",
       "      <td>2</td>\n",
       "      <td>1</td>\n",
       "      <td>30.0</td>\n",
       "      <td>3</td>\n",
       "      <td>2</td>\n",
       "      <td>dom</td>\n",
       "      <td>3.284</td>\n",
       "      <td>14.2950</td>\n",
       "    </tr>\n",
       "    <tr>\n",
       "      <th>21</th>\n",
       "      <td>222</td>\n",
       "      <td>2</td>\n",
       "      <td>2</td>\n",
       "      <td>2</td>\n",
       "      <td>30.0</td>\n",
       "      <td>1</td>\n",
       "      <td>4</td>\n",
       "      <td>sub</td>\n",
       "      <td>0.602</td>\n",
       "      <td>3.3825</td>\n",
       "    </tr>\n",
       "    <tr>\n",
       "      <th>22</th>\n",
       "      <td>223</td>\n",
       "      <td>2</td>\n",
       "      <td>2</td>\n",
       "      <td>3</td>\n",
       "      <td>30.0</td>\n",
       "      <td>0</td>\n",
       "      <td>5</td>\n",
       "      <td>sub</td>\n",
       "      <td>2.032</td>\n",
       "      <td>9.4775</td>\n",
       "    </tr>\n",
       "    <tr>\n",
       "      <th>23</th>\n",
       "      <td>224</td>\n",
       "      <td>2</td>\n",
       "      <td>2</td>\n",
       "      <td>4</td>\n",
       "      <td>30.0</td>\n",
       "      <td>4</td>\n",
       "      <td>1</td>\n",
       "      <td>dom</td>\n",
       "      <td>1.164</td>\n",
       "      <td>5.3975</td>\n",
       "    </tr>\n",
       "    <tr>\n",
       "      <th>24</th>\n",
       "      <td>225</td>\n",
       "      <td>2</td>\n",
       "      <td>2</td>\n",
       "      <td>5</td>\n",
       "      <td>28.0</td>\n",
       "      <td>2</td>\n",
       "      <td>3</td>\n",
       "      <td>0</td>\n",
       "      <td>1.232</td>\n",
       "      <td>4.6175</td>\n",
       "    </tr>\n",
       "  </tbody>\n",
       "</table>\n",
       "</div>"
      ],
      "text/plain": [
       "   subject  batch  cage  no  weight  win  rank subdom  baseline      ofl\n",
       "1      112      1     1   2    24.6    2     3      0     2.082  12.2975\n",
       "2      113      1     1   3    25.8    4     1    dom     1.072   1.3700\n",
       "3      114      1     1   4    22.5    0     5    sub     3.060   4.6950\n",
       "4      115      1     1   5    23.7    1     4    sub     1.902  18.7850\n",
       "6      122      1     2   2    25.1    2     3      0     2.776   6.1250\n",
       "7      123      1     2   3    27.4    0     5    sub     3.936  12.1300\n",
       "8      124      1     2   4    26.9    4     1    dom     3.780   8.4550\n",
       "9      125      1     2   5    26.3    3     2    dom     6.954  10.5000\n",
       "10     141      1     4   1    27.4    2     3      0     2.324  13.4825\n",
       "11     142      1     4   2    27.3    4     1    dom     3.040   7.2375\n",
       "12     143      1     4   3    27.1    1     4    sub     0.736   2.1525\n",
       "13     144      1     4   4    27.0    3     2    dom     2.148   4.0000\n",
       "14     145      1     4   5    27.2    0     5    sub     0.402   5.3425\n",
       "15     211      2     1   1    30.0    1     4    sub     2.616  10.8725\n",
       "16     212      2     1   2    27.0    1     4    sub     5.456   1.8450\n",
       "17     213      2     1   3    31.0    3     1    dom     8.950  36.7700\n",
       "18     214      2     1   4    29.0    3     1    dom     4.922   9.1375\n",
       "19     215      2     1   5    30.0    2     3      0     0.692   3.2750\n",
       "20     221      2     2   1    30.0    3     2    dom     3.284  14.2950\n",
       "21     222      2     2   2    30.0    1     4    sub     0.602   3.3825\n",
       "22     223      2     2   3    30.0    0     5    sub     2.032   9.4775\n",
       "23     224      2     2   4    30.0    4     1    dom     1.164   5.3975\n",
       "24     225      2     2   5    28.0    2     3      0     1.232   4.6175"
      ]
     },
     "execution_count": 103,
     "metadata": {},
     "output_type": "execute_result"
    }
   ],
   "source": [
    "df\n",
    "#df = df.reset_index()\n",
    "#df.rename(columns={0:'subjecdt'}, inplace=True)\n",
    "#df.rename(index=str)#, columns={\"OFL\": \"avg OFL (%)\", \"rank\":'Rank'})"
   ]
  },
  {
   "cell_type": "code",
   "execution_count": 40,
   "metadata": {
    "collapsed": true
   },
   "outputs": [],
   "source": [
    "#df1 = df[df['baseline']<10]\n",
    "df1 = df1[df1['subdom']!=0]"
   ]
  },
  {
   "cell_type": "code",
   "execution_count": 95,
   "metadata": {
    "collapsed": true
   },
   "outputs": [],
   "source": [
    "#rank_ofl = df1.pivot_table(index=df1.index, columns=['subdom'], values = ['ofl'])\n",
    "rank_ofl = df.pivot_table(index=df.index, columns=['win'], values = ['ofl'])"
   ]
  },
  {
   "cell_type": "code",
   "execution_count": 5,
   "metadata": {
    "collapsed": true
   },
   "outputs": [],
   "source": [
    "import sys\n",
    "import os\n",
    "import glob\n",
    "sys.path.insert(0, 'F:\\\\github/dataplot/')\n",
    "os.chdir('F:\\\\')\n",
    "import data_process as dp"
   ]
  },
  {
   "cell_type": "code",
   "execution_count": 2,
   "metadata": {
    "collapsed": true
   },
   "outputs": [],
   "source": [
    "import pandas as pd\n",
    "import numpy as np\n",
    "#csv_file = f_list[0]\n",
    "\n",
    "def read_ofl(csv_file):\n",
    "    time_bin = 9\n",
    "    df = pd.read_csv(csv_file, header=None, skiprows=3).iloc[:,0:time_bin+1]\n",
    "    \n",
    "    #print(df.keys())\n",
    "    key_subject = df.keys()[0] # pandas 로 csv read 시, 기본 key 탐색 (첫번째 row)\n",
    "    obs = df[df[key_subject].str.contains(\"dem|exclude\")==False]  # dem, exclude 중 하나라도 포함되어 있으면 제외 -> obs 데이터만 추출 가능\n",
    "    #print(df.values.shape)\n",
    "    base_m = np.mean(df.iloc[:,1:6], axis=1)\n",
    "    ofl_m = np.mean(df.iloc[:,6:], axis=1)\n",
    "    #print(df.iloc[0,0])\n",
    "    obs['b_avg']=base_m\n",
    "    obs['ofl_avg']=ofl_m\n",
    "    \n",
    "    n_total = obs.values.shape[0]\n",
    "    n_mice = 5\n",
    "    \n",
    "    n_cage = int(n_total/n_mice) # cage 수\n",
    "    #print(n_cage)\n",
    "    total_coef_var = []\n",
    "    for i in range(n_cage):\n",
    "        target_sample = obs.iloc[i*n_mice:i*n_mice+n_mice,-1]\n",
    "        \n",
    "        #print(target_sample)\n",
    "        mm = np.mean(target_sample)\n",
    "        ss = np.std(target_sample, ddof=1) # ddof =1 to apply sample std\n",
    "        coef_var = ss/mm\n",
    "        #print(mm, ss,coef_var)\n",
    "        total_coef_var.append(coef_var)\n",
    "        \n",
    "        #obs.iloc[i*n_mice:i*n_mice+n_mice].assign(coef =coef_var)\n",
    "    #obs['coef'] = total_coef_var\n",
    "    np.std()\n",
    "    return obs, total_coef_var"
   ]
  },
  {
   "cell_type": "code",
   "execution_count": 7,
   "metadata": {},
   "outputs": [
    {
     "name": "stdout",
     "output_type": "stream",
     "text": [
      "other file\n",
      "other file\n",
      "other file\n"
     ]
    },
    {
     "name": "stderr",
     "output_type": "stream",
     "text": [
      "C:\\ProgramData\\Anaconda3\\lib\\site-packages\\ipykernel_launcher.py:16: SettingWithCopyWarning: \n",
      "A value is trying to be set on a copy of a slice from a DataFrame.\n",
      "Try using .loc[row_indexer,col_indexer] = value instead\n",
      "\n",
      "See the caveats in the documentation: http://pandas.pydata.org/pandas-docs/stable/indexing.html#indexing-view-versus-copy\n",
      "  app.launch_new_instance()\n",
      "C:\\ProgramData\\Anaconda3\\lib\\site-packages\\ipykernel_launcher.py:17: SettingWithCopyWarning: \n",
      "A value is trying to be set on a copy of a slice from a DataFrame.\n",
      "Try using .loc[row_indexer,col_indexer] = value instead\n",
      "\n",
      "See the caveats in the documentation: http://pandas.pydata.org/pandas-docs/stable/indexing.html#indexing-view-versus-copy\n"
     ]
    }
   ],
   "source": [
    "#path_3 = 'E:\\\\'\n",
    "#path = '0Temp_data/20180911_OFL_after_tube_n3_batch1/'\n",
    "#path_name = os.path.join(path_3,path)\n",
    "import os\n",
    "import glob\n",
    "path = '/python/data/tube/'\n",
    "os.chdir(path)\n",
    "f_list = glob.glob('./*.csv')\n",
    "ofl = pd.DataFrame()\n",
    "\n",
    "#avg = np.empty((0,1))\n",
    "coef = []\n",
    "for i in f_list:\n",
    "    if 'freeze' not in i:\n",
    "        print('other file')\n",
    "    else:\n",
    "        obs, coef_var  = read_ofl(i)\n",
    "        coef.append(coef_var)\n",
    "        ofl = ofl.append(obs)"
   ]
  },
  {
   "cell_type": "code",
   "execution_count": 10,
   "metadata": {},
   "outputs": [
    {
     "name": "stderr",
     "output_type": "stream",
     "text": [
      "C:\\ProgramData\\Anaconda3\\lib\\site-packages\\ipykernel_launcher.py:16: SettingWithCopyWarning: \n",
      "A value is trying to be set on a copy of a slice from a DataFrame.\n",
      "Try using .loc[row_indexer,col_indexer] = value instead\n",
      "\n",
      "See the caveats in the documentation: http://pandas.pydata.org/pandas-docs/stable/indexing.html#indexing-view-versus-copy\n",
      "  app.launch_new_instance()\n",
      "C:\\ProgramData\\Anaconda3\\lib\\site-packages\\ipykernel_launcher.py:17: SettingWithCopyWarning: \n",
      "A value is trying to be set on a copy of a slice from a DataFrame.\n",
      "Try using .loc[row_indexer,col_indexer] = value instead\n",
      "\n",
      "See the caveats in the documentation: http://pandas.pydata.org/pandas-docs/stable/indexing.html#indexing-view-versus-copy\n"
     ]
    }
   ],
   "source": [
    "#path2 = '../test_ofl_std.csv'\n",
    "obs2, coef2=read_ofl(data)  # population std. excel 은 sample std\n",
    "#np.std()"
   ]
  },
  {
   "cell_type": "code",
   "execution_count": 12,
   "metadata": {
    "collapsed": true
   },
   "outputs": [],
   "source": [
    "obs2.to_csv('tube_ofl2.csv')"
   ]
  },
  {
   "cell_type": "code",
   "execution_count": 14,
   "metadata": {},
   "outputs": [
    {
     "data": {
      "text/plain": [
       "[0.7001430997822031, 0.24637184525578054, 0.6755237661794141]"
      ]
     },
     "execution_count": 14,
     "metadata": {},
     "output_type": "execute_result"
    }
   ],
   "source": [
    "coef"
   ]
  },
  {
   "cell_type": "code",
   "execution_count": 7,
   "metadata": {},
   "outputs": [
    {
     "data": {
      "text/plain": [
       "'F:\\\\github\\\\test'"
      ]
     },
     "execution_count": 7,
     "metadata": {},
     "output_type": "execute_result"
    }
   ],
   "source": [
    "import os\n",
    "os.getcwd()"
   ]
  },
  {
   "cell_type": "code",
   "execution_count": 28,
   "metadata": {},
   "outputs": [
    {
     "name": "stdout",
     "output_type": "stream",
     "text": [
      "F:\\0GoogleDrive\\Research\\Result\\tube\n"
     ]
    }
   ],
   "source": [
    "import os\n",
    "print(os.getcwd())\n",
    "os.chdir('/python/data/tube/')\n",
    "#name = 'full_rank_ofl_.xlsx'\n",
    "name = 'total_rank_ofl_test.xlsx'\n",
    "df = pd.read_excel(name, index_col=0)#, header=None, skiprows=3).iloc[:,0:time_bin+1]\n",
    "#col_names = pd.read_excel('rank_ofl.xlsx', index_col=0).columns\n",
    "\n",
    "#df = df.reset_index()\n",
    "#df.rename(columns={0:'subject'}, inplace=True)\n",
    "\n",
    "#df['Rank']=df.Rank.astype(int)\n",
    "\n",
    "\n",
    "#df.head()\n",
    "#df = df[df.index != 144] # baseline 높은 쥐 제거\n",
    "#df_r = df.pivot_table(index=df.keys()[0],columns = df.keys()[2],values=df.keys()[1])"
   ]
  },
  {
   "cell_type": "code",
   "execution_count": null,
   "metadata": {
    "collapsed": true
   },
   "outputs": [],
   "source": [
    "fdf['batch']"
   ]
  },
  {
   "cell_type": "code",
   "execution_count": 73,
   "metadata": {},
   "outputs": [
    {
     "data": {
      "text/html": [
       "<div>\n",
       "<style scoped>\n",
       "    .dataframe tbody tr th:only-of-type {\n",
       "        vertical-align: middle;\n",
       "    }\n",
       "\n",
       "    .dataframe tbody tr th {\n",
       "        vertical-align: top;\n",
       "    }\n",
       "\n",
       "    .dataframe thead th {\n",
       "        text-align: right;\n",
       "    }\n",
       "</style>\n",
       "<table border=\"1\" class=\"dataframe\">\n",
       "  <thead>\n",
       "    <tr style=\"text-align: right;\">\n",
       "      <th></th>\n",
       "      <th>base_avg</th>\n",
       "      <th>avg OFL (%)</th>\n",
       "      <th>ret_avg</th>\n",
       "      <th>Empathy</th>\n",
       "      <th>Rank</th>\n",
       "      <th>Subdom</th>\n",
       "      <th>weight</th>\n",
       "      <th>base_norm_ofl</th>\n",
       "      <th>min_max_scale</th>\n",
       "    </tr>\n",
       "    <tr>\n",
       "      <th>subject</th>\n",
       "      <th></th>\n",
       "      <th></th>\n",
       "      <th></th>\n",
       "      <th></th>\n",
       "      <th></th>\n",
       "      <th></th>\n",
       "      <th></th>\n",
       "      <th></th>\n",
       "      <th></th>\n",
       "    </tr>\n",
       "  </thead>\n",
       "  <tbody>\n",
       "    <tr>\n",
       "      <th>111</th>\n",
       "      <td>4.156</td>\n",
       "      <td>18.7475</td>\n",
       "      <td>19.1875</td>\n",
       "      <td>High</td>\n",
       "      <td>1</td>\n",
       "      <td>NaN</td>\n",
       "      <td>28.8</td>\n",
       "      <td>14.5915</td>\n",
       "      <td>NaN</td>\n",
       "    </tr>\n",
       "    <tr>\n",
       "      <th>112</th>\n",
       "      <td>1.118</td>\n",
       "      <td>11.0925</td>\n",
       "      <td>3.6700</td>\n",
       "      <td>NaN</td>\n",
       "      <td>2</td>\n",
       "      <td>NaN</td>\n",
       "      <td>30.0</td>\n",
       "      <td>9.9745</td>\n",
       "      <td>NaN</td>\n",
       "    </tr>\n",
       "    <tr>\n",
       "      <th>113</th>\n",
       "      <td>2.212</td>\n",
       "      <td>14.3150</td>\n",
       "      <td>9.5950</td>\n",
       "      <td>High</td>\n",
       "      <td>3</td>\n",
       "      <td>NaN</td>\n",
       "      <td>29.5</td>\n",
       "      <td>12.1030</td>\n",
       "      <td>NaN</td>\n",
       "    </tr>\n",
       "    <tr>\n",
       "      <th>114</th>\n",
       "      <td>1.452</td>\n",
       "      <td>7.6875</td>\n",
       "      <td>3.8350</td>\n",
       "      <td>Low</td>\n",
       "      <td>4</td>\n",
       "      <td>NaN</td>\n",
       "      <td>30.5</td>\n",
       "      <td>6.2355</td>\n",
       "      <td>NaN</td>\n",
       "    </tr>\n",
       "    <tr>\n",
       "      <th>115</th>\n",
       "      <td>2.122</td>\n",
       "      <td>9.4950</td>\n",
       "      <td>1.4225</td>\n",
       "      <td>Low</td>\n",
       "      <td>0</td>\n",
       "      <td>NaN</td>\n",
       "      <td>NaN</td>\n",
       "      <td>7.3730</td>\n",
       "      <td>NaN</td>\n",
       "    </tr>\n",
       "    <tr>\n",
       "      <th>121</th>\n",
       "      <td>1.184</td>\n",
       "      <td>7.3175</td>\n",
       "      <td>12.1575</td>\n",
       "      <td>High</td>\n",
       "      <td>3</td>\n",
       "      <td>NaN</td>\n",
       "      <td>27.0</td>\n",
       "      <td>6.1335</td>\n",
       "      <td>NaN</td>\n",
       "    </tr>\n",
       "    <tr>\n",
       "      <th>122</th>\n",
       "      <td>0.492</td>\n",
       "      <td>1.3975</td>\n",
       "      <td>2.0375</td>\n",
       "      <td>Low</td>\n",
       "      <td>4</td>\n",
       "      <td>NaN</td>\n",
       "      <td>29.7</td>\n",
       "      <td>0.9055</td>\n",
       "      <td>NaN</td>\n",
       "    </tr>\n",
       "    <tr>\n",
       "      <th>123</th>\n",
       "      <td>0.156</td>\n",
       "      <td>3.3525</td>\n",
       "      <td>0.3625</td>\n",
       "      <td>Low</td>\n",
       "      <td>2</td>\n",
       "      <td>NaN</td>\n",
       "      <td>27.0</td>\n",
       "      <td>3.1965</td>\n",
       "      <td>NaN</td>\n",
       "    </tr>\n",
       "    <tr>\n",
       "      <th>124</th>\n",
       "      <td>1.722</td>\n",
       "      <td>6.2275</td>\n",
       "      <td>9.8625</td>\n",
       "      <td>NaN</td>\n",
       "      <td>5</td>\n",
       "      <td>NaN</td>\n",
       "      <td>29.0</td>\n",
       "      <td>4.5055</td>\n",
       "      <td>NaN</td>\n",
       "    </tr>\n",
       "    <tr>\n",
       "      <th>125</th>\n",
       "      <td>0.670</td>\n",
       "      <td>7.2600</td>\n",
       "      <td>6.0350</td>\n",
       "      <td>High</td>\n",
       "      <td>1</td>\n",
       "      <td>NaN</td>\n",
       "      <td>30.5</td>\n",
       "      <td>6.5900</td>\n",
       "      <td>NaN</td>\n",
       "    </tr>\n",
       "    <tr>\n",
       "      <th>131</th>\n",
       "      <td>3.686</td>\n",
       "      <td>11.5975</td>\n",
       "      <td>10.0900</td>\n",
       "      <td>NaN</td>\n",
       "      <td>1</td>\n",
       "      <td>NaN</td>\n",
       "      <td>28.0</td>\n",
       "      <td>7.9115</td>\n",
       "      <td>NaN</td>\n",
       "    </tr>\n",
       "    <tr>\n",
       "      <th>132</th>\n",
       "      <td>0.358</td>\n",
       "      <td>16.9125</td>\n",
       "      <td>8.3825</td>\n",
       "      <td>High</td>\n",
       "      <td>1</td>\n",
       "      <td>NaN</td>\n",
       "      <td>28.5</td>\n",
       "      <td>16.5545</td>\n",
       "      <td>NaN</td>\n",
       "    </tr>\n",
       "    <tr>\n",
       "      <th>133</th>\n",
       "      <td>3.574</td>\n",
       "      <td>6.6450</td>\n",
       "      <td>3.9400</td>\n",
       "      <td>Low</td>\n",
       "      <td>3</td>\n",
       "      <td>NaN</td>\n",
       "      <td>31.0</td>\n",
       "      <td>3.0710</td>\n",
       "      <td>NaN</td>\n",
       "    </tr>\n",
       "    <tr>\n",
       "      <th>134</th>\n",
       "      <td>0.380</td>\n",
       "      <td>7.7925</td>\n",
       "      <td>12.6825</td>\n",
       "      <td>Low</td>\n",
       "      <td>0</td>\n",
       "      <td>NaN</td>\n",
       "      <td>NaN</td>\n",
       "      <td>7.4125</td>\n",
       "      <td>NaN</td>\n",
       "    </tr>\n",
       "    <tr>\n",
       "      <th>135</th>\n",
       "      <td>6.794</td>\n",
       "      <td>15.0100</td>\n",
       "      <td>1.3125</td>\n",
       "      <td>High</td>\n",
       "      <td>0</td>\n",
       "      <td>NaN</td>\n",
       "      <td>NaN</td>\n",
       "      <td>8.2160</td>\n",
       "      <td>NaN</td>\n",
       "    </tr>\n",
       "    <tr>\n",
       "      <th>141</th>\n",
       "      <td>1.142</td>\n",
       "      <td>4.3025</td>\n",
       "      <td>14.8550</td>\n",
       "      <td>Low</td>\n",
       "      <td>0</td>\n",
       "      <td>NaN</td>\n",
       "      <td>NaN</td>\n",
       "      <td>3.1605</td>\n",
       "      <td>NaN</td>\n",
       "    </tr>\n",
       "    <tr>\n",
       "      <th>142</th>\n",
       "      <td>0.872</td>\n",
       "      <td>4.1950</td>\n",
       "      <td>3.8875</td>\n",
       "      <td>Low</td>\n",
       "      <td>3</td>\n",
       "      <td>NaN</td>\n",
       "      <td>28.9</td>\n",
       "      <td>3.3230</td>\n",
       "      <td>NaN</td>\n",
       "    </tr>\n",
       "    <tr>\n",
       "      <th>143</th>\n",
       "      <td>1.702</td>\n",
       "      <td>4.5025</td>\n",
       "      <td>1.7050</td>\n",
       "      <td>High</td>\n",
       "      <td>3</td>\n",
       "      <td>NaN</td>\n",
       "      <td>26.0</td>\n",
       "      <td>2.8005</td>\n",
       "      <td>NaN</td>\n",
       "    </tr>\n",
       "    <tr>\n",
       "      <th>144</th>\n",
       "      <td>8.294</td>\n",
       "      <td>32.0325</td>\n",
       "      <td>24.3050</td>\n",
       "      <td>NaN</td>\n",
       "      <td>4</td>\n",
       "      <td>NaN</td>\n",
       "      <td>27.2</td>\n",
       "      <td>23.7385</td>\n",
       "      <td>NaN</td>\n",
       "    </tr>\n",
       "    <tr>\n",
       "      <th>145</th>\n",
       "      <td>2.302</td>\n",
       "      <td>20.6500</td>\n",
       "      <td>9.2450</td>\n",
       "      <td>High</td>\n",
       "      <td>1</td>\n",
       "      <td>NaN</td>\n",
       "      <td>28.0</td>\n",
       "      <td>18.3480</td>\n",
       "      <td>NaN</td>\n",
       "    </tr>\n",
       "  </tbody>\n",
       "</table>\n",
       "</div>"
      ],
      "text/plain": [
       "         base_avg  avg OFL (%)  ret_avg Empathy  Rank  Subdom  weight  \\\n",
       "subject                                                                 \n",
       "111         4.156      18.7475  19.1875    High     1     NaN    28.8   \n",
       "112         1.118      11.0925   3.6700     NaN     2     NaN    30.0   \n",
       "113         2.212      14.3150   9.5950    High     3     NaN    29.5   \n",
       "114         1.452       7.6875   3.8350     Low     4     NaN    30.5   \n",
       "115         2.122       9.4950   1.4225     Low     0     NaN     NaN   \n",
       "121         1.184       7.3175  12.1575    High     3     NaN    27.0   \n",
       "122         0.492       1.3975   2.0375     Low     4     NaN    29.7   \n",
       "123         0.156       3.3525   0.3625     Low     2     NaN    27.0   \n",
       "124         1.722       6.2275   9.8625     NaN     5     NaN    29.0   \n",
       "125         0.670       7.2600   6.0350    High     1     NaN    30.5   \n",
       "131         3.686      11.5975  10.0900     NaN     1     NaN    28.0   \n",
       "132         0.358      16.9125   8.3825    High     1     NaN    28.5   \n",
       "133         3.574       6.6450   3.9400     Low     3     NaN    31.0   \n",
       "134         0.380       7.7925  12.6825     Low     0     NaN     NaN   \n",
       "135         6.794      15.0100   1.3125    High     0     NaN     NaN   \n",
       "141         1.142       4.3025  14.8550     Low     0     NaN     NaN   \n",
       "142         0.872       4.1950   3.8875     Low     3     NaN    28.9   \n",
       "143         1.702       4.5025   1.7050    High     3     NaN    26.0   \n",
       "144         8.294      32.0325  24.3050     NaN     4     NaN    27.2   \n",
       "145         2.302      20.6500   9.2450    High     1     NaN    28.0   \n",
       "\n",
       "         base_norm_ofl  min_max_scale  \n",
       "subject                                \n",
       "111            14.5915            NaN  \n",
       "112             9.9745            NaN  \n",
       "113            12.1030            NaN  \n",
       "114             6.2355            NaN  \n",
       "115             7.3730            NaN  \n",
       "121             6.1335            NaN  \n",
       "122             0.9055            NaN  \n",
       "123             3.1965            NaN  \n",
       "124             4.5055            NaN  \n",
       "125             6.5900            NaN  \n",
       "131             7.9115            NaN  \n",
       "132            16.5545            NaN  \n",
       "133             3.0710            NaN  \n",
       "134             7.4125            NaN  \n",
       "135             8.2160            NaN  \n",
       "141             3.1605            NaN  \n",
       "142             3.3230            NaN  \n",
       "143             2.8005            NaN  \n",
       "144            23.7385            NaN  \n",
       "145            18.3480            NaN  "
      ]
     },
     "execution_count": 73,
     "metadata": {},
     "output_type": "execute_result"
    }
   ],
   "source": [
    "#df[df['Rank']==0]\n",
    "\n",
    "'11' in str(df.index) \n",
    "#test = str(df.index) \n",
    "df.head(20)"
   ]
  },
  {
   "cell_type": "code",
   "execution_count": 209,
   "metadata": {
    "collapsed": true
   },
   "outputs": [],
   "source": [
    "df = pd.read_excel('total_rank_ofl_test.xlsx')\n",
    "#df = df.drop(index = df.index[df['Rank']==0]) # high baselinen 제거\n"
   ]
  },
  {
   "cell_type": "code",
   "execution_count": 199,
   "metadata": {
    "collapsed": true
   },
   "outputs": [],
   "source": [
    "\n",
    "#### 특정 배치 제외. 처음 것 제외\n",
    "df = df[df['subject']>200]"
   ]
  },
  {
   "cell_type": "code",
   "execution_count": 214,
   "metadata": {
    "collapsed": true
   },
   "outputs": [],
   "source": [
    "#### linear rank only. sub dom.\n",
    "df = df[df['linear_rank']=='y'] # linear rank only \n",
    "#rank_ofl = df.pivot_table(index=df.index,columns=df.keys()[8],values=df.keys()[5])"
   ]
  },
  {
   "cell_type": "code",
   "execution_count": 211,
   "metadata": {
    "collapsed": true
   },
   "outputs": [],
   "source": [
    "# high baseline 제외.\n",
    "\n",
    "df=df.drop(index=df.index[df['subject']==144])\n",
    "df['Rank']=df['Rank'].fillna(0).astype(int)\n",
    "df = df.drop(index = df.index[df['Rank']==0])\n",
    "df.head()\n",
    "rank_ofl = df.pivot_table(index=df.index,columns=df['Rank'],values=df.keys()[5])"
   ]
  },
  {
   "cell_type": "code",
   "execution_count": 69,
   "metadata": {
    "collapsed": true
   },
   "outputs": [],
   "source": [
    "##############\n",
    "total_coef_var=[]\n",
    "total_min_cage = []\n",
    "total_max_cage = []\n",
    "n_mice = 5\n",
    "n_cage=10\n",
    "total_target = []\n",
    "import numpy as np\n",
    "for i in range(n_cage):\n",
    "        #i*n_mice i*(n_mice+1)\n",
    "        target_sample = df.iloc[i*n_mice:i*n_mice+n_mice,1]\n",
    "        \n",
    "        #print(target_sample)\n",
    "        mm = np.mean(target_sample)\n",
    "        ss = np.std(target_sample, ddof=1) # ddof =1 to apply sample std\n",
    "        min_cage = np.min(target_sample)\n",
    "        max_cage = np.max(target_sample)\n",
    "        coef_var = ss/mm\n",
    "        \n",
    "        #print(mm, ss,coef_var)\n",
    "        total_coef_var.append(coef_var)\n",
    "        total_min_cage.append(min_cage)\n",
    "        total_max_cage.append(max_cage)\n",
    "        total_target.append((target_sample-min_cage)/(max_cage-min_cage)*100)"
   ]
  },
  {
   "cell_type": "code",
   "execution_count": 59,
   "metadata": {},
   "outputs": [
    {
     "data": {
      "text/plain": [
       "'1'"
      ]
     },
     "execution_count": 59,
     "metadata": {},
     "output_type": "execute_result"
    }
   ],
   "source": [
    "subject =str(df.index[0]) # subject\n",
    "batch = subject[0] # batch\n",
    "group = subject[1] #group\n",
    "\n",
    "#df.index.contains('11')# match('11')"
   ]
  },
  {
   "cell_type": "code",
   "execution_count": 355,
   "metadata": {},
   "outputs": [
    {
     "name": "stdout",
     "output_type": "stream",
     "text": [
      "1\n",
      "2\n",
      "3\n",
      "12\n"
     ]
    }
   ],
   "source": [
    "count = 0\n",
    "result = pd.Series()# DataFrame()\n",
    "for i in list(set(df['batch'])): # batch 마다 탐색\n",
    "    print(i)\n",
    "    #temp = df[df['batch']==i]\n",
    "    for j in list(set(df['cage'])):\n",
    "        #cur = temp[temp['cage']==j]\n",
    "        temp = df[(df['cage']==j) & (df['batch']==i)]\n",
    "        \n",
    "        temp = temp['base_norm_ofl']\n",
    "        #df.iloc[:,4] #ofl\n",
    "        min_val = np.min(temp)\n",
    "        max_val = np.max(temp)\n",
    "        mean_val = np.mean(temp)\n",
    "        std_val = np.std(temp, ddof=1)\n",
    "        #temp = (temp-min_val)/(max_val-min_val)*100\n",
    "        temp = (temp-mean_val)/std_val*100\n",
    "        #temp=temp.values\n",
    "        #print(type(temp))\n",
    "        count+=1\n",
    "        result = result.append(temp)\n",
    "        \n",
    "        \n",
    "print(count)\n",
    "        "
   ]
  },
  {
   "cell_type": "code",
   "execution_count": 289,
   "metadata": {
    "collapsed": true
   },
   "outputs": [],
   "source": [
    "import csv\n",
    "\n",
    "with open(\"output.csv\", \"w\") as f:\n",
    "    writer = csv.writer(f)\n",
    "    writer.writerows(result)"
   ]
  },
  {
   "cell_type": "code",
   "execution_count": 356,
   "metadata": {},
   "outputs": [
    {
     "name": "stderr",
     "output_type": "stream",
     "text": [
      "C:\\ProgramData\\Anaconda3\\lib\\site-packages\\ipykernel_launcher.py:1: SettingWithCopyWarning: \n",
      "A value is trying to be set on a copy of a slice from a DataFrame.\n",
      "Try using .loc[row_indexer,col_indexer] = value instead\n",
      "\n",
      "See the caveats in the documentation: http://pandas.pydata.org/pandas-docs/stable/indexing.html#indexing-view-versus-copy\n",
      "  \"\"\"Entry point for launching an IPython kernel.\n"
     ]
    }
   ],
   "source": [
    "df['z']=result"
   ]
  },
  {
   "cell_type": "code",
   "execution_count": 358,
   "metadata": {
    "collapsed": true
   },
   "outputs": [],
   "source": [
    "#rank_ofl = df.pivot_table(index=df.index,columns=df.keys()[1],values=df.keys()[0])\n",
    "subdom_ofl = df.pivot_table(index=['subject'], columns=['group'], values = ['z'])\n",
    "rank_ofl = df.pivot_table(index=['subject'], columns=['Rank'], values = ['z'])"
   ]
  },
  {
   "cell_type": "code",
   "execution_count": 123,
   "metadata": {
    "collapsed": true
   },
   "outputs": [],
   "source": [
    "subdom_ofl.to_csv('subdom_linear_rank.csv')"
   ]
  },
  {
   "cell_type": "code",
   "execution_count": 419,
   "metadata": {
    "collapsed": true
   },
   "outputs": [],
   "source": [
    "a=[1,5,3,5 ,7]\n",
    "a.sort()\n",
    "if a.count(15):\n",
    "    print('y')"
   ]
  },
  {
   "cell_type": "code",
   "execution_count": 91,
   "metadata": {
    "collapsed": true
   },
   "outputs": [],
   "source": [
    "###### customize color palette\n",
    "flatui = [\"#9b59b6\", \"#3498db\", \"#95a5a6\", \"#e74c3c\", \"#34495e\", \"#2ecc71\"]\n",
    "beach_towel = ['#fe4a49', '#2ab7ca', '#fed766', '#e6e6ea', '#f4f4f8']\n",
    "pastel_rainbow = ['#a8e6cf','#dcedc1','#ffd3b6','#ffaaa5', '#ff8b94']\n",
    "\n",
    "list_palette = [flatui,\n",
    "             beach_towel,\n",
    "             pastel_rainbow]\n"
   ]
  },
  {
   "cell_type": "code",
   "execution_count": 92,
   "metadata": {
    "collapsed": true
   },
   "outputs": [],
   "source": [
    "#title = 'OFL vs body weight'\n",
    "title = 'Social Rank vs OFL'\n",
    "#ylabel = 'Weight (g)'\n",
    "ylabel = 'avg OFL (%)'\n",
    "margin=50\n",
    "#ylim=[np.min(data.min()-margin),np.max(data.max()+margin*2)]\n",
    "ylim=[0,40]\n",
    "\n",
    "import matplotlib.patches as mpatches\n",
    "from scipy import stats\n",
    "import matplotlib.pyplot as plt\n",
    "import seaborn as sns\n",
    "%matplotlib inline\n",
    "\n",
    "ofl_beach = [beach_towel[1],beach_towel[2]]\n",
    "bar_width = .6\n",
    "\n",
    "size = 10\n",
    "params = {\n",
    "   'axes.labelsize': size,\n",
    "    \"axes.titlesize\":size,\n",
    "    \"axes.labelsize\":size,\n",
    "   'font.size': size,\n",
    "   'legend.fontsize': size,\n",
    "   'legend.frameon':False,\n",
    "   'xtick.labelsize': size,\n",
    "   'ytick.labelsize': size,\n",
    "   'text.usetex': False,\n",
    "   'figure.figsize': [5, 6] # instead of 4.5, 4.5\n",
    "   }\n",
    "\n",
    "plt.rcParams.update(params)\n",
    "\n",
    "def color_setting(list_palette=list_palette, n_color=2):\n",
    "    sns.set_style('whitegrid')\n",
    "    sns.set_color_codes()\n",
    "    \n",
    "    if n_color <=3:  # color 종류 별로 안써도 되는 경우\n",
    "        print('color mapping')\n",
    "        for i, i_p in enumerate(list_palette):\n",
    "            list_palette[i] = i_p[::2]  #홀수 값만 취함. \n",
    "    \n",
    "    #### \n",
    "    #sns.set_palette('hls',n_color) # Reds\n",
    "    sns.set_palette(list_palette[1], n_color)\n",
    "    #sns.set_palette(ofl_beach,n_color)\n",
    "    current_palette = sns.color_palette()\n",
    "    sns.palplot(current_palette)\n",
    "    ###\n",
    "    sns.set_context('talk', font_scale=1)#, rc={\"lines.linewidth\": 2}) # “paper”, “talk”, and “poster”, which are version of the notebook parameters scaled by .8, 1.3, and 1.6,\n",
    "    #sns.set_context(\"talk\", font_scale=1,rc={\"font.size\":8,\"axes.titlesize\":8,\"axes.labelsize\":5})   \n",
    "    return current_palette\n",
    "\n",
    "def legend_patch(current_palette, labels):\n",
    "    patches = []\n",
    "    for i, _ in enumerate(labels):\n",
    "        patch_i = mpatches.Patch(color=current_palette[i], label=labels[i])\n",
    "        patches.append(patch_i)\n",
    "    return patches\n",
    "def plot_bar_scatter_multi(data, current_palette, labels):\n",
    "      \n",
    "    patches = legend_patch(current_palette, labels)   # to add legend\n",
    "   \n",
    "    fig, ax = plt.subplots(figsize=(8,6))\n",
    "    \n",
    "    sns.barplot(data=data, ci=68,errwidth = 2, capsize=.05, ax= ax)\n",
    "    sns.stripplot(data=data, jitter=True, size= 7,  \n",
    "                  edgecolor = 'gray', linewidth=1, ax=ax)#,color=\"0.4\")\n",
    "    ax.grid(False)\n",
    "    \n",
    "    ax.set(title = title,\n",
    "          ylabel=ylabel,\n",
    "          #xlabel='trial',\n",
    "          ylim=ylim)\n",
    "    \n",
    "    ax.legend(handles = patches, loc='best', edgecolor =None,  bbox_to_anchor=(0.9,0.85)) # upper rightfontsize=13,\n",
    "    #ax.axis('equal')\n",
    "    ax.set_title(title,fontsize=22)\n",
    "\n",
    "    ax.spines['top'].set_visible(False)\n",
    "    ax.spines['right'].set_visible(False)\n",
    "    \n",
    "    change_width(ax, bar_width) # bar_width\n",
    "    \n",
    "    fig.tight_layout()\n",
    "    fig.show()\n",
    "    fig.savefig('{}_bar_scatter.png'.format(title), transparent = True, dpi=200)    \n",
    "    \n",
    "def change_width(ax, new_value):\n",
    "    for patch in ax.patches :\n",
    "        current_width = patch.get_width()\n",
    "        diff = current_width - new_value\n",
    "        # change bar width\n",
    "        patch.set_width(new_value)\n",
    "        # recenter\n",
    "        patch.set_x(patch.get_x() + diff * .5)\n",
    "        \n",
    "def data_vec(data):  # convert Pandas dataframe into vectors\n",
    "    n_category = len(data.keys())\n",
    "    d_list = [0 for i in range(n_category)]\n",
    "    legend=[]\n",
    "    for i, i_key in enumerate(data.keys()):\n",
    "        d_list[i] = np.array(data[i_key])\n",
    "        d_list[i] = d_list[i][np.isnan(d_list[i])==False]  # remove NaN\n",
    "        print('n = {}'.format(len(d_list[i])))\n",
    "        #legend.append(str(int(i_key)) + ' (n={})'.format(len(d_list[i])))\n",
    "        legend.append(str(i_key)+ ' (n={})'.format(len(d_list[i])))\n",
    "    return d_list, legend\n"
   ]
  },
  {
   "cell_type": "code",
   "execution_count": 97,
   "metadata": {
    "scrolled": true
   },
   "outputs": [
    {
     "name": "stdout",
     "output_type": "stream",
     "text": [
      "n = 4\n",
      "n = 6\n",
      "n = 5\n",
      "n = 6\n",
      "n = 4\n"
     ]
    },
    {
     "name": "stderr",
     "output_type": "stream",
     "text": [
      "C:\\ProgramData\\Anaconda3\\lib\\site-packages\\scipy\\stats\\stats.py:1713: FutureWarning: Using a non-tuple sequence for multidimensional indexing is deprecated; use `arr[tuple(seq)]` instead of `arr[seq]`. In the future this will be interpreted as an array index, `arr[np.array(seq)]`, which will result either in an error or a different result.\n",
      "  return np.add.reduce(sorted[indexer] * weights, axis=axis) / sumval\n",
      "C:\\ProgramData\\Anaconda3\\lib\\site-packages\\matplotlib\\figure.py:459: UserWarning: matplotlib is currently using a non-GUI backend, so cannot show the figure\n",
      "  \"matplotlib is currently using a non-GUI backend, \"\n"
     ]
    },
    {
     "data": {
      "text/plain": [
       "[(0.996078431372549, 0.2901960784313726, 0.28627450980392155),\n",
       " (0.16470588235294117, 0.7176470588235294, 0.792156862745098),\n",
       " (0.996078431372549, 0.8431372549019608, 0.4),\n",
       " (0.9019607843137255, 0.9019607843137255, 0.9176470588235294),\n",
       " (0.9568627450980393, 0.9568627450980393, 0.9725490196078431)]"
      ]
     },
     "execution_count": 97,
     "metadata": {},
     "output_type": "execute_result"
    },
    {
     "data": {
      "image/png": "[encoded data removed]",
      "text/plain": [
       "<Figure size 360x72 with 1 Axes>"
      ]
     },
     "metadata": {},
     "output_type": "display_data"
    },
    {
     "data": {
      "image/png": "[encoded data removed]",
      "text/plain": [
       "<Figure size 576x432 with 1 Axes>"
      ]
     },
     "metadata": {},
     "output_type": "display_data"
    }
   ],
   "source": [
    "### bar scatter : rank vs OFL\n",
    "import numpy as np\n",
    "#rank_ofl = df.pivot_table(index=df.index,columns=df.keys()[1],values=df.keys()[0])\n",
    "#rank_ofl = rank_ofl[rank_ofl.columns[1:]] # NaN 이 rank 0 이 되어 제거\n",
    "#plt.autoscale()\n",
    "# plot\n",
    "#data= subdom_ofl\n",
    "data = rank_ofl\n",
    "d_list, legend = data_vec(data)        \n",
    "n_class = len(legend)\n",
    "current_palette = color_setting(list_palette, 5)\n",
    "plot_bar_scatter_multi(data, current_palette, legend)\n",
    "\n",
    "\n",
    "current_palette"
   ]
  },
  {
   "cell_type": "code",
   "execution_count": 54,
   "metadata": {},
   "outputs": [
    {
     "data": {
      "text/plain": [
       "[254.0, 74.0, 73.0]"
      ]
     },
     "execution_count": 54,
     "metadata": {},
     "output_type": "execute_result"
    }
   ],
   "source": [
    "[i*255 for i in current_palette[0]]"
   ]
  },
  {
   "cell_type": "code",
   "execution_count": 149,
   "metadata": {
    "collapsed": true
   },
   "outputs": [],
   "source": [
    "os.chdir('/python/data/tube/')\n",
    "df2 = pd.read_excel('fear_ofl2.xlsx', index_col=None)#, header=None, skiprows=3).iloc[:,0:time_bin+1]\n",
    "fear = df2.iloc[:,0]\n",
    "fear = fear[fear.notnull()]\n",
    "oo = df2.iloc[:,1]\n",
    "oo = oo[oo.notnull()]\n",
    "#df2['Fear']\n",
    "oo\n",
    "\n",
    "fear_norm = (fear-fear.min())/(fear.max()-fear.min())\n",
    "oo_norm = (oo-oo.min())/(oo.max()-oo.min())\n",
    "#fear.min()\n"
   ]
  },
  {
   "cell_type": "code",
   "execution_count": 150,
   "metadata": {},
   "outputs": [
    {
     "name": "stdout",
     "output_type": "stream",
     "text": [
      "42.39399999999999 11.362399198917258\n",
      "9.631453125 7.205802638741196\n",
      "83.0341946720057 111.73600581476073\n"
     ]
    }
   ],
   "source": [
    "f=fear_norm.std() /fear_norm.mean()*100\n",
    "o=oo_norm.std()/oo_norm.mean()*100\n",
    "#print(f,o)\n",
    "f=fear.std() /fear.mean()*100\n",
    "o=oo.std()/oo.mean()*100\n",
    "print(fear.mean(), fear.std())\n",
    "print(oo.mean(), oo.std())\n",
    "print(f,o)\n",
    "#len(fear)\n",
    "#len(oo)"
   ]
  },
  {
   "cell_type": "code",
   "execution_count": 177,
   "metadata": {},
   "outputs": [
    {
     "name": "stderr",
     "output_type": "stream",
     "text": [
      "C:\\ProgramData\\Anaconda3\\lib\\site-packages\\scipy\\stats\\stats.py:1713: FutureWarning: Using a non-tuple sequence for multidimensional indexing is deprecated; use `arr[tuple(seq)]` instead of `arr[seq]`. In the future this will be interpreted as an array index, `arr[np.array(seq)]`, which will result either in an error or a different result.\n",
      "  return np.add.reduce(sorted[indexer] * weights, axis=axis) / sumval\n"
     ]
    },
    {
     "data": {
      "image/png": "[encoded data removed]",
      "text/plain": [
       "<Figure size 144x72 with 1 Axes>"
      ]
     },
     "metadata": {},
     "output_type": "display_data"
    },
    {
     "data": {
      "image/png": "[encoded data removed]",
      "text/plain": [
       "<Figure size 720x432 with 2 Axes>"
      ]
     },
     "metadata": {},
     "output_type": "display_data"
    }
   ],
   "source": [
    "\n",
    "import seaborn as sns\n",
    "#data= ofl['ofl_avg']\n",
    "#data = [fear, oo]\n",
    "color_setting(n_color=2)\n",
    "#data = fear.append(oo)\n",
    "f,ax1 = plt.subplots()\n",
    "color_list = ['#a8e6cf','#ffd3b6']\n",
    "bins = 10\n",
    "#sns.distplot(fear,bins = bins,color=color_list[0],ax=ax1, rug=True, kde=False)\n",
    "sns.distplot(data,bins = bins,color=color_list[1], norm_hist=True, ax=ax1, rug=True, kde=False)\n",
    "#d_list[i] = d_list[i][np.isnan(d_list[i])==False] \n",
    "#pd.isnull\n",
    "\n",
    "ax2 = ax1.twinx()\n",
    "#ax2.set_ylim(0,0.08)\n",
    "ax2.yaxis.set_ticks([])\n",
    "#ax2.set_ylabel('norm')\n",
    "#sns.kdeplot(fear,color=color_list[0],ax=ax2, label='Fear (n=22)')\n",
    "sns.kdeplot(data,color=color_list[1],ax=ax2,label='OFL (n=29)')\n",
    "ax1.set_xlabel('avg Freezing (%)')\n",
    "ax1.set_ylabel('Counts')\n",
    " \n",
    "ax1.grid(False)\n",
    "ax2.spines['top'].set_visible(False)\n",
    "ax2.spines['right'].set_visible(False)\n",
    "ax1.spines['top'].set_visible(False)\n",
    "ax1.spines['right'].set_visible(False)\n",
    "f.tight_layout()\n",
    "f.savefig('dist_new.png', transparent = True, dpi=200)   "
   ]
  },
  {
   "cell_type": "code",
   "execution_count": 172,
   "metadata": {},
   "outputs": [
    {
     "data": {
      "text/plain": [
       "'F:\\\\'"
      ]
     },
     "execution_count": 172,
     "metadata": {},
     "output_type": "execute_result"
    }
   ],
   "source": [
    "os.getcwd()"
   ]
  },
  {
   "cell_type": "code",
   "execution_count": 147,
   "metadata": {},
   "outputs": [
    {
     "name": "stderr",
     "output_type": "stream",
     "text": [
      "C:\\ProgramData\\Anaconda3\\lib\\site-packages\\scipy\\stats\\stats.py:1713: FutureWarning: Using a non-tuple sequence for multidimensional indexing is deprecated; use `arr[tuple(seq)]` instead of `arr[seq]`. In the future this will be interpreted as an array index, `arr[np.array(seq)]`, which will result either in an error or a different result.\n",
      "  return np.add.reduce(sorted[indexer] * weights, axis=axis) / sumval\n"
     ]
    },
    {
     "data": {
      "text/plain": [
       "<matplotlib.axes._subplots.AxesSubplot at 0x30860240>"
      ]
     },
     "execution_count": 147,
     "metadata": {},
     "output_type": "execute_result"
    },
    {
     "data": {
      "image/png": "[encoded data removed]",
      "text/plain": [
       "<Figure size 720x720 with 1 Axes>"
      ]
     },
     "metadata": {},
     "output_type": "display_data"
    }
   ],
   "source": [
    "color_setting(n_color=2)\n",
    "data = fear.append(oo)\n",
    "f,ax1 = plt.subplots()\n",
    "sns.violinplot( data=[fear,oo])#, color=color_list[0],whis=np.inf, ax=ax1)\n",
    "#sns.violinplot( data=oo, color=color_list[1],whis=np.inf, ax=ax1)"
   ]
  },
  {
   "cell_type": "code",
   "execution_count": 139,
   "metadata": {},
   "outputs": [
    {
     "name": "stderr",
     "output_type": "stream",
     "text": [
      "C:\\ProgramData\\Anaconda3\\lib\\site-packages\\scipy\\stats\\stats.py:1713: FutureWarning: Using a non-tuple sequence for multidimensional indexing is deprecated; use `arr[tuple(seq)]` instead of `arr[seq]`. In the future this will be interpreted as an array index, `arr[np.array(seq)]`, which will result either in an error or a different result.\n",
      "  return np.add.reduce(sorted[indexer] * weights, axis=axis) / sumval\n"
     ]
    },
    {
     "data": {
      "image/png": "[encoded data removed]",
      "text/plain": [
       "<Figure size 720x720 with 2 Axes>"
      ]
     },
     "metadata": {},
     "output_type": "display_data"
    }
   ],
   "source": [
    "\n",
    "f,ax1 = plt.subplots()\n",
    "color_list = ['#a8e6cf','#ffd3b6']\n",
    "#sns.distplot(fear,bins = 15,color=color_list[0],ax=ax1, rug=True, kde=False)\n",
    "sns.distplot(fear,bins = 10,color=color_list[1], ax=ax1, rug=True, kde=False) #hist_kws=dict(alpha=0.2),\n",
    "#x3=ax.twinx()\n",
    "sns.boxplot(x=fear, ax=ax2)\n",
    "#ax3.set(ylim=(-5,5))\n",
    "\n",
    "\n",
    "#d_list[i] = d_list[i][np.isnan(d_list[i])==False] \n",
    "#pd.isnull\n",
    "#ax1.set_xticklabels(labels, fontdict=None, minor=False, **kwargs)¶\n",
    "ax2 = ax1.twinx()\n",
    "ax2.set_ylim(0,0.08)\n",
    "#x1.set_xlim(0,40)\n",
    "#x2.yaxis.set_ticks([]), \n",
    "#sns.boxplot(x=oo, width=0.1,  linewidth = 2, color = color_list[1],ax=ax2)# notch=True,\n",
    "#ax2.set_ylabel('norm')\n",
    "sns.kdeplot(fear,color=color_list[0],ax=ax2, label='Fear')\n",
    "#ns.kdeplot(oo,color=color_list[1],ax=ax2, label='OFL')\n",
    "ax1.set_xlabel('avg Freezing (%)')\n",
    "ax1.set_ylabel('Counts')\n",
    "f.savefig('dist.png', transparent = True, dpi=200)    \n",
    "ax1.grid(False)\n",
    "#x2.spines['top'].set_visible(False)\n",
    "#x2.spines['right'].set_visible(False)"
   ]
  },
  {
   "cell_type": "code",
   "execution_count": 13,
   "metadata": {
    "collapsed": true
   },
   "outputs": [],
   "source": [
    "def defaultPlotting(): \n",
    "    #sns.set(rc={'figure.figsize':(11.7,8.27),\"font.size\":20,\"axes.titlesize\":20,\"axes.labelsize\":20},style=\"white\")\n",
    "    sns.set(rc={\"axes.labelsize\":0},style=\"white\")\n",
    "\n",
    "defaultPlotting()\n",
    "label = [ 'Fear (n=22)','OFL (n=30)']\n",
    "color_list = ['#a8e6cf','#ffd3b6']\n"
   ]
  },
  {
   "cell_type": "code",
   "execution_count": 11,
   "metadata": {},
   "outputs": [
    {
     "ename": "NameError",
     "evalue": "name 'fear' is not defined",
     "output_type": "error",
     "traceback": [
      "\u001b[1;31m---------------------------------------------------------------------------\u001b[0m",
      "\u001b[1;31mNameError\u001b[0m                                 Traceback (most recent call last)",
      "\u001b[1;32m<ipython-input-11-451bbc9fee0c>\u001b[0m in \u001b[0;36m<module>\u001b[1;34m()\u001b[0m\n\u001b[0;32m      6\u001b[0m \u001b[1;33m\u001b[0m\u001b[0m\n\u001b[0;32m      7\u001b[0m \u001b[0mi\u001b[0m\u001b[1;33m=\u001b[0m\u001b[1;36m1\u001b[0m\u001b[1;33m\u001b[0m\u001b[0m\n\u001b[1;32m----> 8\u001b[1;33m \u001b[0mdata\u001b[0m \u001b[1;33m=\u001b[0m \u001b[1;33m[\u001b[0m\u001b[0mfear\u001b[0m\u001b[1;33m,\u001b[0m\u001b[0moo\u001b[0m\u001b[1;33m]\u001b[0m\u001b[1;33m\u001b[0m\u001b[0m\n\u001b[0m\u001b[0;32m      9\u001b[0m \u001b[0mlabel\u001b[0m \u001b[1;33m=\u001b[0m \u001b[1;33m[\u001b[0m \u001b[1;34m'Fear (n=22)'\u001b[0m\u001b[1;33m,\u001b[0m\u001b[1;34m'OFL (n=30)'\u001b[0m\u001b[1;33m]\u001b[0m\u001b[1;33m\u001b[0m\u001b[0m\n\u001b[0;32m     10\u001b[0m \u001b[0mcolor_list\u001b[0m \u001b[1;33m=\u001b[0m \u001b[1;33m[\u001b[0m\u001b[1;34m'#a8e6cf'\u001b[0m\u001b[1;33m,\u001b[0m\u001b[1;34m'#ffd3b6'\u001b[0m\u001b[1;33m]\u001b[0m\u001b[1;33m\u001b[0m\u001b[0m\n",
      "\u001b[1;31mNameError\u001b[0m: name 'fear' is not defined"
     ]
    }
   ],
   "source": [
    "\n",
    "i=1\n",
    "data = [fear,oo]\n",
    "\n",
    "bins = 7\n",
    "ylim=[0.025, 0.08]\n",
    "f,ax1 = plt.subplots()\n",
    "#sns.distplot(fear,bins = 15,color=color_list[0],ax=ax1, rug=True, kde=False)\n",
    "sns.distplot(data[i],bins = bins,color=color_list[i], ax=ax1, rug=True, kde=False) #hist_kws=dict(alpha=0.2),\n",
    "\n",
    "#ax3.set(ylim=(-5,5))\n",
    "\n",
    "\n",
    "#d_list[i] = d_list[i][np.isnan(d_list[i])==False] \n",
    "#pd.isnull\n",
    "#ax1.set_xticklabels(labels, fontdict=None, minor=False, **kwargs)¶\n",
    "ax2 = ax1.twinx()\n",
    "ax2.set_ylim(0,ylim[i])\n",
    "#ax1.set_xlim(20,100)\n",
    "ax2.yaxis.set_ticks([])\n",
    "#ax2.set_ylabel('norm')\n",
    "#sns.kdeplot(fear,color=color_list[0],ax=ax2, label='Fear')\n",
    "sns.kdeplot(data[i],color=color_list[i],ax=ax2, label=label[i])\n",
    "ax1.set_xlabel('avg Freezing (%)')\n",
    "ax1.set_ylabel('Counts')\n",
    "ax1.grid(False)\n",
    "ax1.spines['top'].set_visible(False)\n",
    "ax1.spines['right'].set_visible(False)\n",
    "ax2.spines['top'].set_visible(False)\n",
    "ax2.spines['right'].set_visible(False)\n",
    "f.savefig('dist.png', transparent = True, dpi=200)    "
   ]
  },
  {
   "cell_type": "code",
   "execution_count": 221,
   "metadata": {},
   "outputs": [
    {
     "name": "stdout",
     "output_type": "stream",
     "text": [
      "[['1-1' 1 0.45 'obs']\n",
      " ['1-1' 2 0.56 'obs']\n",
      " ['1-1' 3 3.59 'obs']\n",
      " ...\n",
      " ['dem9' 7 63.73 'dem']\n",
      " ['dem9' 8 60.34 'dem']\n",
      " ['dem9' 9 67.71 'dem']]\n"
     ]
    }
   ],
   "source": [
    "plt.plot()\n",
    "#b_m = np.mean(data.values[:,0:5],axis=1)\n",
    "#ofl_m = np.mean(data.values[:,5:], axis=1)"
   ]
  },
  {
   "cell_type": "code",
   "execution_count": 135,
   "metadata": {
    "collapsed": true
   },
   "outputs": [],
   "source": [
    "dd =data.assign(avg = lambda x: (x.freezing)*2)\n",
    "dd.head()\n",
    "titanic = sns.load_dataset('titanic')\n",
    "\n",
    "def is_old_func(row):\n",
    "    return row['age'] > 60\n",
    "titanic['is_old'] = titanic.apply(is_old_func, axis='columns')\n"
   ]
  },
  {
   "cell_type": "code",
   "execution_count": 137,
   "metadata": {},
   "outputs": [
    {
     "data": {
      "text/html": [
       "<div>\n",
       "<style scoped>\n",
       "    .dataframe tbody tr th:only-of-type {\n",
       "        vertical-align: middle;\n",
       "    }\n",
       "\n",
       "    .dataframe tbody tr th {\n",
       "        vertical-align: top;\n",
       "    }\n",
       "\n",
       "    .dataframe thead th {\n",
       "        text-align: right;\n",
       "    }\n",
       "</style>\n",
       "<table border=\"1\" class=\"dataframe\">\n",
       "  <thead>\n",
       "    <tr style=\"text-align: right;\">\n",
       "      <th></th>\n",
       "      <th>subject</th>\n",
       "      <th>timebin</th>\n",
       "      <th>freezing</th>\n",
       "      <th>obsdem</th>\n",
       "    </tr>\n",
       "  </thead>\n",
       "  <tbody>\n",
       "    <tr>\n",
       "      <th>0</th>\n",
       "      <td>1-1</td>\n",
       "      <td>1</td>\n",
       "      <td>0.45</td>\n",
       "      <td>obs</td>\n",
       "    </tr>\n",
       "    <tr>\n",
       "      <th>1</th>\n",
       "      <td>1-1</td>\n",
       "      <td>2</td>\n",
       "      <td>0.56</td>\n",
       "      <td>obs</td>\n",
       "    </tr>\n",
       "    <tr>\n",
       "      <th>2</th>\n",
       "      <td>1-1</td>\n",
       "      <td>3</td>\n",
       "      <td>3.59</td>\n",
       "      <td>obs</td>\n",
       "    </tr>\n",
       "    <tr>\n",
       "      <th>3</th>\n",
       "      <td>1-1</td>\n",
       "      <td>4</td>\n",
       "      <td>2.57</td>\n",
       "      <td>obs</td>\n",
       "    </tr>\n",
       "    <tr>\n",
       "      <th>4</th>\n",
       "      <td>1-1</td>\n",
       "      <td>5</td>\n",
       "      <td>3.13</td>\n",
       "      <td>obs</td>\n",
       "    </tr>\n",
       "  </tbody>\n",
       "</table>\n",
       "</div>"
      ],
      "text/plain": [
       "  subject timebin  freezing obsdem\n",
       "0     1-1       1      0.45    obs\n",
       "1     1-1       2      0.56    obs\n",
       "2     1-1       3      3.59    obs\n",
       "3     1-1       4      2.57    obs\n",
       "4     1-1       5      3.13    obs"
      ]
     },
     "execution_count": 137,
     "metadata": {},
     "output_type": "execute_result"
    }
   ],
   "source": [
    "data.head()"
   ]
  },
  {
   "cell_type": "code",
   "execution_count": 195,
   "metadata": {
    "collapsed": true
   },
   "outputs": [],
   "source": [
    "\n",
    "base=data[data.timebin<=5]#.mean()\n",
    "base = base.pivot_table(index='subject', columns = ['timebin'], values='freezing')\n",
    "base_m = base.mean(axis=1)\n",
    "data.assign(base = base_m)\n",
    "\n",
    "ofl=data[data.timebin>5]#.mean()\n",
    "ofl = ofl.pivot_table(index='subject', columns = ['timebin'], values='freezing')\n",
    "data.assign(avg =base.mean(axis=1))\n",
    "data['avg']=ofl.mean(axis=1)\n",
    "d = data.pivot_table(index='subject',  values='freezing')\n",
    "#d['avg'] = ofl.mean(axis=1)\n"
   ]
  },
  {
   "cell_type": "code",
   "execution_count": 154,
   "metadata": {
    "collapsed": true
   },
   "outputs": [],
   "source": [
    "os.getcwd()\n",
    "path_3 = 'F:\\\\'\n",
    "os.chdir(path_3)\n",
    "data = '/python/data/tube/total_tube_ofl.xlsx'\n",
    "aa =pd.read_excel(data)\n",
    "#aa.columns[0].\n",
    "#aa= aa.rename(index=str, columns={\"OFL\": \"avg OFL (%)\", \"rank\":'Rank'})\n",
    "# 5 5 5 4 5 5 "
   ]
  },
  {
   "cell_type": "code",
   "execution_count": 156,
   "metadata": {},
   "outputs": [
    {
     "name": "stdout",
     "output_type": "stream",
     "text": [
      "5\n",
      "obs4     7.6875\n",
      "NaN      9.4950\n",
      "obs2    11.0925\n",
      "obs3    14.3150\n",
      "obs1    18.7475\n",
      "Name: OFL, dtype: float64\n",
      "5\n",
      "5\n",
      "obs7     1.3975\n",
      "obs8     3.3525\n",
      "obs9     6.2275\n",
      "obs10    7.2600\n",
      "obs6     7.3175\n",
      "Name: OFL, dtype: float64\n",
      "10\n",
      "5\n",
      "obs13     6.6450\n",
      "NaN       7.7925\n",
      "obs11    11.5975\n",
      "NaN      15.0100\n",
      "obs12    16.9125\n",
      "Name: OFL, dtype: float64\n",
      "15\n",
      "4\n",
      "obs17     4.1950\n",
      "NaN       4.3025\n",
      "obs18     4.5025\n",
      "obs20    20.6500\n",
      "Name: OFL, dtype: float64\n",
      "19\n",
      "5\n",
      "obs4     2.0700\n",
      "obs_1    3.1575\n",
      "obs5     5.2500\n",
      "obs2     6.9875\n",
      "obs3     8.9475\n",
      "Name: OFL, dtype: float64\n",
      "24\n",
      "5\n",
      "obs2-1     3.2150\n",
      "obs2-4     3.7700\n",
      "obs2-3     5.6450\n",
      "obs2-2     9.4125\n",
      "obs2-5    14.4075\n",
      "Name: OFL, dtype: float64\n",
      "29\n"
     ]
    },
    {
     "data": {
      "image/png": "[encoded data removed]",
      "text/plain": [
       "<Figure size 432x432 with 6 Axes>"
      ]
     },
     "metadata": {},
     "output_type": "display_data"
    },
    {
     "data": {
      "image/png": "[encoded data removed]",
      "text/plain": [
       "<Figure size 432x432 with 6 Axes>"
      ]
     },
     "metadata": {},
     "output_type": "display_data"
    },
    {
     "data": {
      "image/png": "[encoded data removed]",
      "text/plain": [
       "<Figure size 432x432 with 6 Axes>"
      ]
     },
     "metadata": {},
     "output_type": "display_data"
    },
    {
     "data": {
      "image/png": "[encoded data removed]",
      "text/plain": [
       "<Figure size 432x432 with 6 Axes>"
      ]
     },
     "metadata": {},
     "output_type": "display_data"
    },
    {
     "data": {
      "image/png": "[encoded data removed]",
      "text/plain": [
       "<Figure size 432x432 with 6 Axes>"
      ]
     },
     "metadata": {},
     "output_type": "display_data"
    },
    {
     "data": {
      "image/png": "[encoded data removed]",
      "text/plain": [
       "<Figure size 432x432 with 6 Axes>"
      ]
     },
     "metadata": {},
     "output_type": "display_data"
    }
   ],
   "source": [
    "#aa.sort_values(by=aa.keys()[0])\n",
    "n_list = [5, 5, 5, 4, 5, 5]\n",
    "idx = 0\n",
    "sort.sort_values()\n",
    "tp=[]\n",
    "for i in n_list:\n",
    "    print(i)\n",
    "    sort= data[idx:idx+int(i)].sort_values()\n",
    "    print(sort)\n",
    "    fig, ax = plt.subplots(3,2,figsize=(6,6))\n",
    "    #sns.barplot(x=data=sort, ci=None,ax=ax)\n",
    "    \n",
    "    tp.append(sort)\n",
    "    idx+=int(i)\n",
    "    print(idx)\n",
    "#aa[aa.keys()[1]]"
   ]
  },
  {
   "cell_type": "code",
   "execution_count": 178,
   "metadata": {},
   "outputs": [
    {
     "name": "stdout",
     "output_type": "stream",
     "text": [
      "F:\\\n"
     ]
    }
   ],
   "source": [
    "print(os.getcwd())\n",
    "os.chdir('/python/data/tube/')\n",
    "df = pd.read_excel('rank_ofl.xlsx', index_col=0)#, header=None, skiprows=3).iloc[:,0:time_bin+1]\n",
    "#col_names = pd.read_excel('rank_ofl.xlsx', index_col=0).columns\n",
    "\n",
    "#df = df.reset_index()\n",
    "#df.rename(columns={0:'subject'}, inplace=True)\n",
    "\n",
    "#df['Rank']=df.Rank.astype(int)\n",
    "\n",
    "df['Rank']=df['Rank'].fillna(0).astype(int)\n",
    "#df.Rank.astype(int)\n",
    "#df.head()\n",
    "df = df[df.index != 144] # baseline 높은 쥐 제거\n",
    "#df_r = df.pivot_table(index=df.keys()[0],columns = df.keys()[2],values=df.keys()[1])\n",
    "\n",
    "df = df[df['Rank']>0]"
   ]
  },
  {
   "cell_type": "code",
   "execution_count": 183,
   "metadata": {
    "collapsed": true
   },
   "outputs": [],
   "source": [
    "df_empathy = df.pivot_table(index=df.index,columns=df.keys()[3], values=df.keys()[2])"
   ]
  },
  {
   "cell_type": "code",
   "execution_count": 154,
   "metadata": {},
   "outputs": [
    {
     "name": "stderr",
     "output_type": "stream",
     "text": [
      "C:\\ProgramData\\Anaconda3\\lib\\site-packages\\scipy\\stats\\stats.py:1713: FutureWarning: Using a non-tuple sequence for multidimensional indexing is deprecated; use `arr[tuple(seq)]` instead of `arr[seq]`. In the future this will be interpreted as an array index, `arr[np.array(seq)]`, which will result either in an error or a different result.\n",
      "  return np.add.reduce(sorted[indexer] * weights, axis=axis) / sumval\n"
     ]
    },
    {
     "data": {
      "image/png": "[encoded data removed]",
      "text/plain": [
       "<Figure size 144x72 with 1 Axes>"
      ]
     },
     "metadata": {},
     "output_type": "display_data"
    },
    {
     "data": {
      "image/png": "[encoded data removed]",
      "text/plain": [
       "<Figure size 720x432 with 1 Axes>"
      ]
     },
     "metadata": {},
     "output_type": "display_data"
    },
    {
     "data": {
      "text/plain": [
       "'F:\\\\python\\\\data\\\\tube'"
      ]
     },
     "execution_count": 154,
     "metadata": {},
     "output_type": "execute_result"
    }
   ],
   "source": [
    "import matplotlib.pyplot as plt\n",
    "import seaborn as sns\n",
    "params = {\n",
    "   'axes.labelsize': 8,\n",
    "    \"axes.titlesize\":8,\n",
    "    \"axes.labelsize\":5,\n",
    "   \n",
    "    #'lines.linewidht':2,\n",
    "    'lines.markersize' : 2,\n",
    "    'axes.grid':False,\n",
    "   'font.size': 18,\n",
    "   'legend.fontsize': 10,\n",
    "   'legend.frameon':False,\n",
    "   'xtick.labelsize': 10,\n",
    "   'ytick.labelsize': 10,\n",
    "   #'text.usetex': False,\n",
    "   'figure.figsize': [5, 5] # instead of 4.5, 4.5\n",
    "    #'xtick.major.size':100\n",
    "   }\n",
    "marker_size=180\n",
    "color_setting()\n",
    "#plt.rcParams.update(params)\n",
    "\n",
    "#plt.rcParams['figure.figsize'] = (20.0, 10.0)\n",
    "#plt.rcParams['font.family'] = \"serif\"\n",
    "#import seaborn as sns; sns.set(\n",
    "sns.set(style=\"white\", font_scale=3, color_codes=True)#, \n",
    "    \n",
    "fig, ax1 = plt.subplots()\n",
    "sns.regplot(data=df, x=df.keys()[1], y=df.keys()[0], scatter_kws={'s':marker_size},ax=ax1)\n",
    "\n",
    "ax1.grid(False)\n",
    "ax1.set(ylim=(-3,30))#, xlim=(0,6))\n",
    "\n",
    "ax1.spines['top'].set_visible(False)\n",
    "ax1.spines['right'].set_visible(False)\n",
    "#color = pastel_rainbow[0]\n",
    "from matplotlib.ticker import MaxNLocator\n",
    "ax1.xaxis.set_major_locator(MaxNLocator(integer=True))\n",
    "plt.show()\n",
    "#graph = sns.jointplot(data=aa, x='rank', y='OFL', kind='reg', color='g', xlim=(0,6), ylim=(-10,30)) #kind = kde\n",
    "title = 'ofl_rank'\n",
    "fig.savefig('{}_reg.png'.format(title), transparent = True, dpi=200)    \n",
    "os.getcwd()"
   ]
  },
  {
   "cell_type": "code",
   "execution_count": 96,
   "metadata": {},
   "outputs": [
    {
     "data": {
      "text/html": [
       "<div>\n",
       "<style scoped>\n",
       "    .dataframe tbody tr th:only-of-type {\n",
       "        vertical-align: middle;\n",
       "    }\n",
       "\n",
       "    .dataframe tbody tr th {\n",
       "        vertical-align: top;\n",
       "    }\n",
       "\n",
       "    .dataframe thead th {\n",
       "        text-align: right;\n",
       "    }\n",
       "</style>\n",
       "<table border=\"1\" class=\"dataframe\">\n",
       "  <thead>\n",
       "    <tr style=\"text-align: right;\">\n",
       "      <th></th>\n",
       "      <th>avg OFL (%)</th>\n",
       "      <th>Rank</th>\n",
       "      <th>weight</th>\n",
       "      <th>Empathy</th>\n",
       "      <th>group</th>\n",
       "    </tr>\n",
       "    <tr>\n",
       "      <th>subject</th>\n",
       "      <th></th>\n",
       "      <th></th>\n",
       "      <th></th>\n",
       "      <th></th>\n",
       "      <th></th>\n",
       "    </tr>\n",
       "  </thead>\n",
       "  <tbody>\n",
       "    <tr>\n",
       "      <th>211</th>\n",
       "      <td>3.1575</td>\n",
       "      <td>1</td>\n",
       "      <td>NaN</td>\n",
       "      <td>NaN</td>\n",
       "      <td>dom</td>\n",
       "    </tr>\n",
       "    <tr>\n",
       "      <th>212</th>\n",
       "      <td>6.9875</td>\n",
       "      <td>2</td>\n",
       "      <td>NaN</td>\n",
       "      <td>NaN</td>\n",
       "      <td>dom</td>\n",
       "    </tr>\n",
       "    <tr>\n",
       "      <th>213</th>\n",
       "      <td>8.9475</td>\n",
       "      <td>3</td>\n",
       "      <td>NaN</td>\n",
       "      <td>NaN</td>\n",
       "      <td>NaN</td>\n",
       "    </tr>\n",
       "    <tr>\n",
       "      <th>214</th>\n",
       "      <td>2.0700</td>\n",
       "      <td>5</td>\n",
       "      <td>NaN</td>\n",
       "      <td>NaN</td>\n",
       "      <td>sub</td>\n",
       "    </tr>\n",
       "    <tr>\n",
       "      <th>215</th>\n",
       "      <td>5.2500</td>\n",
       "      <td>4</td>\n",
       "      <td>NaN</td>\n",
       "      <td>NaN</td>\n",
       "      <td>sub</td>\n",
       "    </tr>\n",
       "    <tr>\n",
       "      <th>221</th>\n",
       "      <td>3.2150</td>\n",
       "      <td>4</td>\n",
       "      <td>NaN</td>\n",
       "      <td>NaN</td>\n",
       "      <td>sub</td>\n",
       "    </tr>\n",
       "    <tr>\n",
       "      <th>222</th>\n",
       "      <td>9.4125</td>\n",
       "      <td>2</td>\n",
       "      <td>NaN</td>\n",
       "      <td>NaN</td>\n",
       "      <td>dom</td>\n",
       "    </tr>\n",
       "    <tr>\n",
       "      <th>223</th>\n",
       "      <td>5.6450</td>\n",
       "      <td>5</td>\n",
       "      <td>NaN</td>\n",
       "      <td>NaN</td>\n",
       "      <td>sub</td>\n",
       "    </tr>\n",
       "    <tr>\n",
       "      <th>224</th>\n",
       "      <td>3.7700</td>\n",
       "      <td>3</td>\n",
       "      <td>NaN</td>\n",
       "      <td>NaN</td>\n",
       "      <td>NaN</td>\n",
       "    </tr>\n",
       "    <tr>\n",
       "      <th>225</th>\n",
       "      <td>14.4075</td>\n",
       "      <td>1</td>\n",
       "      <td>NaN</td>\n",
       "      <td>NaN</td>\n",
       "      <td>dom</td>\n",
       "    </tr>\n",
       "    <tr>\n",
       "      <th>111</th>\n",
       "      <td>6.8700</td>\n",
       "      <td>1</td>\n",
       "      <td>NaN</td>\n",
       "      <td>NaN</td>\n",
       "      <td>dom</td>\n",
       "    </tr>\n",
       "    <tr>\n",
       "      <th>112</th>\n",
       "      <td>1.7600</td>\n",
       "      <td>5</td>\n",
       "      <td>NaN</td>\n",
       "      <td>NaN</td>\n",
       "      <td>sub</td>\n",
       "    </tr>\n",
       "    <tr>\n",
       "      <th>113</th>\n",
       "      <td>4.5300</td>\n",
       "      <td>2</td>\n",
       "      <td>NaN</td>\n",
       "      <td>NaN</td>\n",
       "      <td>dom</td>\n",
       "    </tr>\n",
       "    <tr>\n",
       "      <th>114</th>\n",
       "      <td>2.1250</td>\n",
       "      <td>4</td>\n",
       "      <td>NaN</td>\n",
       "      <td>NaN</td>\n",
       "      <td>sub</td>\n",
       "    </tr>\n",
       "    <tr>\n",
       "      <th>115</th>\n",
       "      <td>10.2550</td>\n",
       "      <td>3</td>\n",
       "      <td>NaN</td>\n",
       "      <td>NaN</td>\n",
       "      <td>NaN</td>\n",
       "    </tr>\n",
       "    <tr>\n",
       "      <th>141</th>\n",
       "      <td>6.0975</td>\n",
       "      <td>4</td>\n",
       "      <td>NaN</td>\n",
       "      <td>NaN</td>\n",
       "      <td>sub</td>\n",
       "    </tr>\n",
       "    <tr>\n",
       "      <th>142</th>\n",
       "      <td>1.5650</td>\n",
       "      <td>3</td>\n",
       "      <td>NaN</td>\n",
       "      <td>NaN</td>\n",
       "      <td>NaN</td>\n",
       "    </tr>\n",
       "    <tr>\n",
       "      <th>143</th>\n",
       "      <td>3.0200</td>\n",
       "      <td>5</td>\n",
       "      <td>NaN</td>\n",
       "      <td>NaN</td>\n",
       "      <td>sub</td>\n",
       "    </tr>\n",
       "    <tr>\n",
       "      <th>144</th>\n",
       "      <td>6.5650</td>\n",
       "      <td>1</td>\n",
       "      <td>NaN</td>\n",
       "      <td>NaN</td>\n",
       "      <td>dom</td>\n",
       "    </tr>\n",
       "    <tr>\n",
       "      <th>145</th>\n",
       "      <td>7.3500</td>\n",
       "      <td>2</td>\n",
       "      <td>NaN</td>\n",
       "      <td>NaN</td>\n",
       "      <td>dom</td>\n",
       "    </tr>\n",
       "  </tbody>\n",
       "</table>\n",
       "</div>"
      ],
      "text/plain": [
       "         avg OFL (%)  Rank  weight  Empathy group\n",
       "subject                                          \n",
       "211           3.1575     1     NaN      NaN   dom\n",
       "212           6.9875     2     NaN      NaN   dom\n",
       "213           8.9475     3     NaN      NaN   NaN\n",
       "214           2.0700     5     NaN      NaN   sub\n",
       "215           5.2500     4     NaN      NaN   sub\n",
       "221           3.2150     4     NaN      NaN   sub\n",
       "222           9.4125     2     NaN      NaN   dom\n",
       "223           5.6450     5     NaN      NaN   sub\n",
       "224           3.7700     3     NaN      NaN   NaN\n",
       "225          14.4075     1     NaN      NaN   dom\n",
       "111           6.8700     1     NaN      NaN   dom\n",
       "112           1.7600     5     NaN      NaN   sub\n",
       "113           4.5300     2     NaN      NaN   dom\n",
       "114           2.1250     4     NaN      NaN   sub\n",
       "115          10.2550     3     NaN      NaN   NaN\n",
       "141           6.0975     4     NaN      NaN   sub\n",
       "142           1.5650     3     NaN      NaN   NaN\n",
       "143           3.0200     5     NaN      NaN   sub\n",
       "144           6.5650     1     NaN      NaN   dom\n",
       "145           7.3500     2     NaN      NaN   dom"
      ]
     },
     "execution_count": 96,
     "metadata": {},
     "output_type": "execute_result"
    }
   ],
   "source": [
    "df"
   ]
  },
  {
   "cell_type": "code",
   "execution_count": 37,
   "metadata": {
    "collapsed": true
   },
   "outputs": [],
   "source": [
    "import os\n",
    "import pandas as pd\n",
    "os.chdir('/python/data/tube/')\n",
    "os.getcwd()\n",
    "#path_3 = 'F:\\\\'\n",
    "#os.chdir(path_3)\n",
    "#data = '/python/data/ofl_rank.csv'\n",
    "data = 'total_tube_ofl.xlsx'\n",
    "aa =pd.read_excel(data)\n",
    "#aa.columns[0].\n",
    "#aa= aa.rename(index=str, columns={\"OFL\": \"avg OFL (%)\", \"rank\":'Rank'}) \n"
   ]
  },
  {
   "cell_type": "code",
   "execution_count": 32,
   "metadata": {},
   "outputs": [
    {
     "name": "stdout",
     "output_type": "stream",
     "text": [
      "3\n"
     ]
    }
   ],
   "source": [
    "p=3\n",
    "if p:\n",
    "    print(p)"
   ]
  },
  {
   "cell_type": "code",
   "execution_count": 39,
   "metadata": {},
   "outputs": [
    {
     "data": {
      "text/plain": [
       "obs1      19.1875\n",
       "obs2       3.6700\n",
       "obs3       9.5950\n",
       "obs4       3.8350\n",
       "NaN        1.4225\n",
       "obs6      12.1575\n",
       "obs7       2.0375\n",
       "obs8       0.3625\n",
       "obs9       9.8625\n",
       "obs10      6.0350\n",
       "obs11     10.0900\n",
       "obs12      8.3825\n",
       "obs13      3.9400\n",
       "NaN       12.6825\n",
       "NaN        1.3125\n",
       "NaN       14.8550\n",
       "obs17      3.8875\n",
       "obs18      1.7050\n",
       "obs20      9.2450\n",
       "obs_1     11.7850\n",
       "obs2       2.7950\n",
       "obs3       8.1275\n",
       "obs4       2.5725\n",
       "obs5       1.3700\n",
       "obs2-1     9.9950\n",
       "obs2-2     2.1550\n",
       "obs2-3     2.5125\n",
       "obs2-4     0.5600\n",
       "obs2-5     6.4250\n",
       "Name: Ret, dtype: float64"
      ]
     },
     "execution_count": 39,
     "metadata": {},
     "output_type": "execute_result"
    }
   ],
   "source": [
    "aa.iloc[:,3]"
   ]
  },
  {
   "cell_type": "code",
   "execution_count": 44,
   "metadata": {},
   "outputs": [
    {
     "data": {
      "text/plain": [
       "True"
      ]
     },
     "execution_count": 44,
     "metadata": {},
     "output_type": "execute_result"
    }
   ],
   "source": [
    "a=aa.iloc[:,3]\n",
    "len(a.shape) ==1"
   ]
  },
  {
   "cell_type": "code",
   "execution_count": 194,
   "metadata": {
    "collapsed": true
   },
   "outputs": [],
   "source": [
    "import seaborn as sns\n",
    "d = data.pivot_table(index='subject', columns = ['timebin'], values='freezing')\n",
    "d.mean(axis=1)\n",
    "#data['timebin'==0:5]\n",
    "#data.assign(avg=)\n",
    "#data.plot.hist()\n",
    "#sns.jointplot(data=data, x='subject', y='timebin', kind='reg', color='g')\n",
    "#plt.show()\n",
    "base_m = np.mean(d.values[:,0:5], axis=1)\n",
    "ofl_m = np.mean(d.values[:,5:9], axis=1)\n"
   ]
  },
  {
   "cell_type": "code",
   "execution_count": 134,
   "metadata": {},
   "outputs": [
    {
     "data": {
      "text/plain": [
       "'F:\\\\'"
      ]
     },
     "execution_count": 134,
     "metadata": {},
     "output_type": "execute_result"
    }
   ],
   "source": [
    "os.getcwd()"
   ]
  }
 ],
 "metadata": {
  "kernelspec": {
   "display_name": "Python 3",
   "language": "python",
   "name": "python3"
  },
  "language_info": {
   "codemirror_mode": {
    "name": "ipython",
    "version": 3
   },
   "file_extension": ".py",
   "mimetype": "text/x-python",
   "name": "python",
   "nbconvert_exporter": "python",
   "pygments_lexer": "ipython3",
   "version": "3.6.3"
  }
 },
 "nbformat": 4,
 "nbformat_minor": 2
}
