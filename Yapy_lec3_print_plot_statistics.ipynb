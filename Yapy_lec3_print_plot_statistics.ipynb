{
 "cells": [
  {
   "cell_type": "code",
   "execution_count": 1,
   "metadata": {},
   "outputs": [
    {
     "name": "stdout",
     "output_type": "stream",
     "text": [
      "test\n",
      "ppzzdf3\n",
      " 결과값은 3 이다.dfsdf\n",
      "result: 3\n",
      "a:3\n"
     ]
    }
   ],
   "source": [
    "### Print\n",
    "\n",
    "print('test')\n",
    "\n",
    "a=3\n",
    "print('ppzzdf' + str(a))\n",
    "\n",
    "#print('a:'+ str(a)+'\\nb')\n",
    "print(' 결과값은 {} 이다.dfsdf'.format(a))\n",
    "print('result: {first:}'.format(first=a))\n",
    "#Print(‘ {a:} ~{b:} '.format(a=, b=‘power’)\n",
    "\n",
    "print('a:{}'.format(a))"
   ]
  },
  {
   "cell_type": "code",
   "execution_count": 2,
   "metadata": {
    "collapsed": true
   },
   "outputs": [],
   "source": [
    "import matplotlib.pyplot as plt\n",
    "import matplotlib\n",
    "\n",
    "%matplotlib inline\n",
    "\n",
    "import numpy as np\n",
    "import pandas as pd"
   ]
  },
  {
   "cell_type": "code",
   "execution_count": 3,
   "metadata": {
    "collapsed": true,
    "scrolled": true
   },
   "outputs": [],
   "source": [
    "name_ofl = '/python/data/ofl_2.xlsx'\n",
    "name_ret = '/python/data/test_ret.csv'\n",
    "\n",
    "ofl = pd.read_excel(name_ofl)\n",
    "ret = pd.read_csv(name_ret)\n",
    "ret.head(10)\n",
    "\n",
    "name = '/python/data/dom_sub.xlsx'\n",
    "bar = pd.read_excel(name)"
   ]
  },
  {
   "cell_type": "code",
   "execution_count": 4,
   "metadata": {},
   "outputs": [
    {
     "data": {
      "text/html": [
       "<div>\n",
       "<style scoped>\n",
       "    .dataframe tbody tr th:only-of-type {\n",
       "        vertical-align: middle;\n",
       "    }\n",
       "\n",
       "    .dataframe tbody tr th {\n",
       "        vertical-align: top;\n",
       "    }\n",
       "\n",
       "    .dataframe thead th {\n",
       "        text-align: right;\n",
       "    }\n",
       "</style>\n",
       "<table border=\"1\" class=\"dataframe\">\n",
       "  <thead>\n",
       "    <tr style=\"text-align: right;\">\n",
       "      <th></th>\n",
       "      <th>Dominant</th>\n",
       "      <th>Subordinate</th>\n",
       "    </tr>\n",
       "  </thead>\n",
       "  <tbody>\n",
       "    <tr>\n",
       "      <th>0</th>\n",
       "      <td>18.7475</td>\n",
       "      <td>7.6875</td>\n",
       "    </tr>\n",
       "    <tr>\n",
       "      <th>1</th>\n",
       "      <td>7.2600</td>\n",
       "      <td>1.3975</td>\n",
       "    </tr>\n",
       "    <tr>\n",
       "      <th>2</th>\n",
       "      <td>11.5975</td>\n",
       "      <td>5.2500</td>\n",
       "    </tr>\n",
       "    <tr>\n",
       "      <th>3</th>\n",
       "      <td>16.9125</td>\n",
       "      <td>3.2150</td>\n",
       "    </tr>\n",
       "    <tr>\n",
       "      <th>4</th>\n",
       "      <td>20.6500</td>\n",
       "      <td>6.2275</td>\n",
       "    </tr>\n",
       "    <tr>\n",
       "      <th>5</th>\n",
       "      <td>3.1575</td>\n",
       "      <td>2.0700</td>\n",
       "    </tr>\n",
       "    <tr>\n",
       "      <th>6</th>\n",
       "      <td>14.4075</td>\n",
       "      <td>5.6450</td>\n",
       "    </tr>\n",
       "    <tr>\n",
       "      <th>7</th>\n",
       "      <td>11.0925</td>\n",
       "      <td>NaN</td>\n",
       "    </tr>\n",
       "    <tr>\n",
       "      <th>8</th>\n",
       "      <td>3.3525</td>\n",
       "      <td>NaN</td>\n",
       "    </tr>\n",
       "    <tr>\n",
       "      <th>9</th>\n",
       "      <td>4.1950</td>\n",
       "      <td>NaN</td>\n",
       "    </tr>\n",
       "    <tr>\n",
       "      <th>10</th>\n",
       "      <td>4.5025</td>\n",
       "      <td>NaN</td>\n",
       "    </tr>\n",
       "    <tr>\n",
       "      <th>11</th>\n",
       "      <td>6.9875</td>\n",
       "      <td>NaN</td>\n",
       "    </tr>\n",
       "    <tr>\n",
       "      <th>12</th>\n",
       "      <td>9.4125</td>\n",
       "      <td>NaN</td>\n",
       "    </tr>\n",
       "  </tbody>\n",
       "</table>\n",
       "</div>"
      ],
      "text/plain": [
       "    Dominant  Subordinate\n",
       "0    18.7475       7.6875\n",
       "1     7.2600       1.3975\n",
       "2    11.5975       5.2500\n",
       "3    16.9125       3.2150\n",
       "4    20.6500       6.2275\n",
       "5     3.1575       2.0700\n",
       "6    14.4075       5.6450\n",
       "7    11.0925          NaN\n",
       "8     3.3525          NaN\n",
       "9     4.1950          NaN\n",
       "10    4.5025          NaN\n",
       "11    6.9875          NaN\n",
       "12    9.4125          NaN"
      ]
     },
     "execution_count": 4,
     "metadata": {},
     "output_type": "execute_result"
    }
   ],
   "source": [
    "bar"
   ]
  },
  {
   "cell_type": "code",
   "execution_count": 5,
   "metadata": {},
   "outputs": [
    {
     "name": "stdout",
     "output_type": "stream",
     "text": [
      "[[62.28 61.14]\n",
      " [43.35 50.78]\n",
      " [58.99 71.73]\n",
      " [63.02 80.22]\n",
      " [38.06 77.88]\n",
      " [66.37 90.28]\n",
      " [70.84 93.3]\n",
      " [52.12 73.18]\n",
      " [70.76 87.04]\n",
      " [63.76 97.42]\n",
      " [67.19 65.77]\n",
      " [73.74 80.34]\n",
      " [84.58 100.0]\n",
      " [50.17 72.07]\n",
      " [36.65 69.65]]\n"
     ]
    }
   ],
   "source": [
    "#np_ofl = np.array(ofl)  # array 변환\n",
    "np_ret = np.array(ret)\n",
    "\n",
    "#size_row = np.shape(test)[1] # row size 값 저장\n",
    "\n",
    "test = np.delete(np_ret, np.s_[0:2], 0)  # 특정 위치 제거. 문자는 필요 없으므로\n",
    "#test2 = np.delete(test, np.s_[3:size_row],1)\n",
    "\n",
    "#print(test2)\n",
    "#size_row = np.shape(test)[1] # row size 값 저장\n",
    "\n",
    "# col 3, row 1 부터 data\n",
    "i_col = 3\n",
    "\n",
    "n_cond = 5\n",
    "\n",
    "i_row = 1\n",
    "#n_ret = 2\n",
    "\n",
    "#np_ret2 = np_ret[i_col:,i_row:n_ret+1]\n",
    "\n",
    "np_slice =test[:,1:3]\n",
    "print(np_slice)"
   ]
  },
  {
   "cell_type": "code",
   "execution_count": 6,
   "metadata": {},
   "outputs": [
    {
     "ename": "NameError",
     "evalue": "name 'np_ret2' is not defined",
     "output_type": "error",
     "traceback": [
      "\u001b[1;31m---------------------------------------------------------------------------\u001b[0m",
      "\u001b[1;31mNameError\u001b[0m                                 Traceback (most recent call last)",
      "\u001b[1;32m<ipython-input-6-2d59ab9ed70a>\u001b[0m in \u001b[0;36m<module>\u001b[1;34m()\u001b[0m\n\u001b[0;32m      5\u001b[0m \u001b[1;33m\u001b[0m\u001b[0m\n\u001b[0;32m      6\u001b[0m \u001b[1;31m#ax.plot(np_ret)\u001b[0m\u001b[1;33m\u001b[0m\u001b[1;33m\u001b[0m\u001b[0m\n\u001b[1;32m----> 7\u001b[1;33m \u001b[0max\u001b[0m\u001b[1;33m.\u001b[0m\u001b[0mplot\u001b[0m\u001b[1;33m(\u001b[0m\u001b[0mnp\u001b[0m\u001b[1;33m.\u001b[0m\u001b[0mtranspose\u001b[0m\u001b[1;33m(\u001b[0m\u001b[0mnp_ret2\u001b[0m\u001b[1;33m)\u001b[0m\u001b[1;33m)\u001b[0m\u001b[1;33m\u001b[0m\u001b[0m\n\u001b[0m\u001b[0;32m      8\u001b[0m \u001b[1;33m\u001b[0m\u001b[0m\n\u001b[0;32m      9\u001b[0m \u001b[1;31m#ax.axis('off')\u001b[0m\u001b[1;33m\u001b[0m\u001b[1;33m\u001b[0m\u001b[0m\n",
      "\u001b[1;31mNameError\u001b[0m: name 'np_ret2' is not defined"
     ]
    },
    {
     "data": {
      "image/png": "[encoded data removed]",
      "text/plain": [
       "<Figure size 432x288 with 1 Axes>"
      ]
     },
     "metadata": {
      "needs_background": "light"
     },
     "output_type": "display_data"
    }
   ],
   "source": [
    "#fig = plt.figure()\n",
    "#ax = fig.add_subplot(111)\n",
    "\n",
    "fig, ax = plt.subplots()\n",
    "\n",
    "#ax.plot(np_ret)\n",
    "ax.plot(np.transpose(np_ret2))\n",
    "\n",
    "#ax.axis('off') \n",
    "ax.grid(False)\n",
    "\n",
    "ax.set(title = 'Cat',\n",
    "      ylabel='귀여움(%)',\n",
    "      xlabel='마릿수',\n",
    "      ylim=[0,100])"
   ]
  },
  {
   "cell_type": "code",
   "execution_count": null,
   "metadata": {
    "collapsed": true
   },
   "outputs": [],
   "source": [
    "\n",
    "## 한글 깨짐! 고치려면?\n",
    "\n",
    "import matplotlib.font_manager as fm\n",
    "\n",
    "font_location = 'c:/windows/fonts/KoPubBatangMedium.ttf'\n",
    "                    # ex - 'C:/asiahead4.ttf'\n",
    "font_name = fm.FontProperties(fname = font_location).get_name()\n",
    "matplotlib.rc('font', family = font_name)"
   ]
  },
  {
   "cell_type": "code",
   "execution_count": 9,
   "metadata": {},
   "outputs": [
    {
     "data": {
      "image/png": "[encoded data removed]",
      "text/plain": [
       "<Figure size 360x72 with 1 Axes>"
      ]
     },
     "metadata": {},
     "output_type": "display_data"
    },
    {
     "data": {
      "image/png": "[encoded data removed]",
      "text/plain": [
       "<Figure size 216x72 with 1 Axes>"
      ]
     },
     "metadata": {},
     "output_type": "display_data"
    }
   ],
   "source": [
    "\n",
    "\n",
    "\n",
    "# sns setting\n",
    "import seaborn as sns\n",
    "\n",
    "#sns.set()\n",
    "sns.set_style('whitegrid')\n",
    "sns.set_color_codes()\n",
    "n_color =3\n",
    "\n",
    "#### \n",
    "\n",
    "\n",
    "###### customize color palette\n",
    "flatui = [\"#9b59b6\", \"#3498db\", \"#95a5a6\", \"#e74c3c\", \"#34495e\", \"#2ecc71\"]\n",
    "beach_towel = ['#fe4a49', '#2ab7ca', '#fed766', '#e6e6ea', '#f4f4f8']\n",
    "pastel_rainbow = ['#a8e6cf','#dcedc1','#ffd3b6','#ffaaa5', '#ff8b94']\n",
    "#sns.palplot(sns.color_palette(beach_towel))\n",
    "sns.palplot(sns.color_palette(pastel_rainbow))\n",
    "#sns.set_palette(pastel_rainbow)\n",
    "sns.set_palette('hls',n_color) # Reds\n",
    "sns.set_palette(pastel_rainbow, n_color)\n",
    "current_palette = sns.color_palette()\n",
    "sns.palplot(current_palette)\n",
    "\n",
    "###\n",
    "sns.set_context('poster', font_scale=1)\n",
    "# talk, poster\n",
    "\n"
   ]
  },
  {
   "cell_type": "code",
   "execution_count": 10,
   "metadata": {},
   "outputs": [
    {
     "data": {
      "text/plain": [
       "['#a8e6cf', '#ffd3b6', '#ff8b94']"
      ]
     },
     "execution_count": 10,
     "metadata": {},
     "output_type": "execute_result"
    }
   ],
   "source": [
    "pastel_rainbow[::2]"
   ]
  },
  {
   "cell_type": "code",
   "execution_count": 11,
   "metadata": {},
   "outputs": [
    {
     "data": {
      "text/plain": [
       "[<matplotlib.patches.Patch at 0x2f42d160>,\n",
       " <matplotlib.patches.Patch at 0x2f42da90>]"
      ]
     },
     "execution_count": 11,
     "metadata": {},
     "output_type": "execute_result"
    }
   ],
   "source": [
    "# to add legend\n",
    "import matplotlib.patches as mpatches\n",
    "\n",
    "labels = ['Dominant','Subordinate']\n",
    "n = 2\n",
    "patches = []\n",
    "for i in range(n):    \n",
    "    patch_i = mpatches.Patch(color=current_palette[i], label=labels[i])\n",
    "    patches.append(patch_i)\n",
    "    \n",
    "patches"
   ]
  },
  {
   "cell_type": "code",
   "execution_count": 13,
   "metadata": {
    "collapsed": true
   },
   "outputs": [],
   "source": [
    "a=10\n",
    "b='test={}'.format(a)"
   ]
  },
  {
   "cell_type": "code",
   "execution_count": 16,
   "metadata": {},
   "outputs": [
    {
     "name": "stderr",
     "output_type": "stream",
     "text": [
      "C:\\ProgramData\\Anaconda3\\lib\\site-packages\\scipy\\stats\\stats.py:1713: FutureWarning: Using a non-tuple sequence for multidimensional indexing is deprecated; use `arr[tuple(seq)]` instead of `arr[seq]`. In the future this will be interpreted as an array index, `arr[np.array(seq)]`, which will result either in an error or a different result.\n",
      "  return np.add.reduce(sorted[indexer] * weights, axis=axis) / sumval\n",
      "C:\\ProgramData\\Anaconda3\\lib\\site-packages\\matplotlib\\cbook\\deprecation.py:107: MatplotlibDeprecationWarning: Passing one of 'on', 'true', 'off', 'false' as a boolean is deprecated; use an actual boolean (True/False) instead.\n",
      "  warnings.warn(message, mplDeprecation, stacklevel=1)\n"
     ]
    },
    {
     "data": {
      "image/png": "[encoded data removed]",
      "text/plain": [
       "<Figure size 432x288 with 1 Axes>"
      ]
     },
     "metadata": {},
     "output_type": "display_data"
    }
   ],
   "source": [
    "plt.rcParams.update()\n",
    "\n",
    "\n",
    "fig, ax = plt.subplots() #figsize=(10,4))\n",
    "\n",
    "#ax = sns.violinplot( data=np_ret2, whis=np.inf)\n",
    "\n",
    "sns.barplot(data=bar, ci=68, errwidth = 2, capsize=.05, ax= ax)\n",
    "sns.stripplot(data=bar, jitter=True, size= 7,  \n",
    "              edgecolor = 'gray', linewidth=1, ax=ax)#,color=\"0.4\")\n",
    "\n",
    "# sns.pointplot(data=t, ci=68)\n",
    "#ax.axis('off') \n",
    "ax.grid('off')\n",
    "\n",
    "ax.set(title = 'Social rank vs OFL',\n",
    "      ylabel='avg OFL (%)',\n",
    "      #xlabel='trial',\n",
    "      ylim=[0,30])\n",
    "\n",
    "\n",
    "ax.legend(handles = patches, loc='best', fontsize=15)#, bbox_to_anchor=(0.5, 0.5)) # upper right\n",
    "#ax.legend(labels, loc='best', fontsize=20)#, bbox_to_anchor=(0.5, 0.5)) # upper right\n",
    "#ax.axis('equal')\n",
    "\n",
    "ax.spines['top'].set_visible(False)\n",
    "ax.spines['right'].set_visible(False)\n",
    "\n",
    "\n",
    "#leg = ax.legend()\n",
    "#leg.get_frame().set_linewidth(0.0)\n",
    "\n",
    "fig.tight_layout()\n",
    "#fig.savefig('test.png', transparent = True, dpi=300)"
   ]
  },
  {
   "cell_type": "code",
   "execution_count": 78,
   "metadata": {
    "scrolled": true
   },
   "outputs": [
    {
     "name": "stderr",
     "output_type": "stream",
     "text": [
      "C:\\ProgramData\\Anaconda3\\lib\\site-packages\\scipy\\stats\\stats.py:1713: FutureWarning: Using a non-tuple sequence for multidimensional indexing is deprecated; use `arr[tuple(seq)]` instead of `arr[seq]`. In the future this will be interpreted as an array index, `arr[np.array(seq)]`, which will result either in an error or a different result.\n",
      "  return np.add.reduce(sorted[indexer] * weights, axis=axis) / sumval\n"
     ]
    },
    {
     "data": {
      "text/plain": [
       "'\\nsns.catplot(x=\"class\", y=\"survived\", hue=\"sex\",\\n            palette={\"male\": \"g\", \"female\": \"m\"},\\n            markers=[\"^\", \"o\"], linestyles=[\"-\", \"--\"],\\n            kind=\"point\", data=titanic);\\n'"
      ]
     },
     "execution_count": 78,
     "metadata": {},
     "output_type": "execute_result"
    },
    {
     "data": {
      "image/png": "[encoded data removed]",
      "text/plain": [
       "<Figure size 432x288 with 1 Axes>"
      ]
     },
     "metadata": {},
     "output_type": "display_data"
    },
    {
     "data": {
      "image/png": "[encoded data removed]",
      "text/plain": [
       "<Figure size 180x360 with 1 Axes>"
      ]
     },
     "metadata": {},
     "output_type": "display_data"
    }
   ],
   "source": [
    "columns = []\n",
    "ofl_bin = 9\n",
    "columns = np.arange(9)+1\n",
    "\n",
    "test = pd.DataFrame(data = np_ofl, columns=columns)\n",
    "\n",
    "fig2, ax2 = plt.subplots()#figsize=(10,4))\n",
    "sns.set_style('ticks',rc = {\"lines.linewidth\":0.1,\"xtick.major.size\": 0.1, \"ytick.major.size\": 1})\n",
    "g = sns.catplot(\n",
    "            #palette={\"male\": \"g\", \"female\": \"m\"},\n",
    "            markers=[\"^\"], linestyles=[\"-\"],linewidth=0.1,\n",
    "            kind=\"point\", data=test, ci=68, ax=ax2, aspect=0.5, scale=0.5)\n",
    "\n",
    "ax2.set(title = 'OFL',\n",
    "      ylabel='freezing(%)',\n",
    "      xlabel='(min)',\n",
    "      ylim=[0,20])\n",
    "\n",
    "ax2.spines['top'].set_visible(False)\n",
    "ax2.spines['right'].set_visible(False)\n",
    "\n",
    "for l in g.ax.lines:\n",
    "    print(l.get_linewidth())\n",
    "    plt.setp(l,linewidth=5)\n",
    "\n",
    "#sns.set_context('poster', font_scale=0.5)\n",
    "\n",
    "# 11.7, 8.27\n",
    "#fig2.set_size_inches(11.7, 8.27)\n",
    "\n",
    "#lw = g.ax.lines[0].get_linewidth() # lw of first line\n",
    "#plt.setp(g.ax.lines,linewidth=lw)\n",
    "\n",
    "#sns.despine()\n",
    "#fig2.tight_layout()\n",
    "#fig2.savefig('ofl.png',dpi=300)\n",
    "\n",
    "\"\"\"\n",
    "sns.catplot(x=\"class\", y=\"survived\", hue=\"sex\",\n",
    "            palette={\"male\": \"g\", \"female\": \"m\"},\n",
    "            markers=[\"^\", \"o\"], linestyles=[\"-\", \"--\"],\n",
    "            kind=\"point\", data=titanic);\n",
    "\"\"\""
   ]
  },
  {
   "cell_type": "code",
   "execution_count": 165,
   "metadata": {},
   "outputs": [
    {
     "data": {
      "image/png": "[encoded data removed]",
      "text/plain": [
       "<Figure size 432x288 with 1 Axes>"
      ]
     },
     "metadata": {},
     "output_type": "display_data"
    }
   ],
   "source": [
    "\n",
    "#sns.set_palette('Reds',n_color)\n",
    "sns.set(font_scale=1)\n",
    "\n",
    "import numpy as np\n",
    "import matplotlib.pyplot as plt\n",
    "\n",
    "men_means, men_std = (20, 35, 30, 35, 27), (2, 3, 4, 1, 2)\n",
    "women_means, women_std = (25, 32, 34, 20, 25), (3, 5, 2, 3, 3)\n",
    "\n",
    "ind = np.arange(len(men_means))  # the x locations for the groups\n",
    "width = 0.35  # the width of the bars\n",
    "\n",
    "fig, ax = plt.subplots()\n",
    "rects1 = ax.bar(ind - width/2, men_means, width, yerr=men_std,\n",
    "                color='SkyBlue', label='Men')\n",
    "rects2 = ax.bar(ind + width/2, women_means, width, yerr=women_std,\n",
    "                color='IndianRed', label='Women')\n",
    "\n",
    "# Add some text for labels, title and custom x-axis tick labels, etc.\n",
    "ax.set_ylabel('Scores')\n",
    "ax.set_title('Scores by group and gender')\n",
    "ax.set_xticks(ind)\n",
    "ax.set_xticklabels(('G1', 'G2', 'G3', 'G4', 'G5'))\n",
    "ax.legend()\n",
    "\n",
    "\n",
    "def autolabel(rects, xpos='center'):\n",
    "    \"\"\"\n",
    "    Attach a text label above each bar in *rects*, displaying its height.\n",
    "\n",
    "    *xpos* indicates which side to place the text w.r.t. the center of\n",
    "    the bar. It can be one of the following {'center', 'right', 'left'}.\n",
    "    \"\"\"\n",
    "\n",
    "    xpos = xpos.lower()  # normalize the case of the parameter\n",
    "    ha = {'center': 'center', 'right': 'left', 'left': 'right'}\n",
    "    offset = {'center': 0.5, 'right': 0.57, 'left': 0.43}  # x_txt = x + w*off\n",
    "\n",
    "    for rect in rects:\n",
    "        height = rect.get_height()\n",
    "        ax.text(rect.get_x() + rect.get_width()*offset[xpos], 1.01*height,\n",
    "                '{}'.format(height), ha=ha[xpos], va='bottom')\n",
    "\n",
    "\n",
    "autolabel(rects1, \"left\")\n",
    "autolabel(rects2, \"right\")\n"
   ]
  },
  {
   "cell_type": "code",
   "execution_count": null,
   "metadata": {
    "collapsed": true
   },
   "outputs": [],
   "source": []
  }
 ],
 "metadata": {
  "kernelspec": {
   "display_name": "Python 3",
   "language": "python",
   "name": "python3"
  },
  "language_info": {
   "codemirror_mode": {
    "name": "ipython",
    "version": 3
   },
   "file_extension": ".py",
   "mimetype": "text/x-python",
   "name": "python",
   "nbconvert_exporter": "python",
   "pygments_lexer": "ipython3",
   "version": "3.6.3"
  }
 },
 "nbformat": 4,
 "nbformat_minor": 2
}
