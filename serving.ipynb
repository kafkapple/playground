{
 "cells": [
  {
   "cell_type": "code",
   "execution_count": 29,
   "metadata": {
    "collapsed": true
   },
   "outputs": [],
   "source": [
    "import numpy as np\n",
    "import pandas as pd\n",
    "#import os"
   ]
  },
  {
   "cell_type": "code",
   "execution_count": 76,
   "metadata": {},
   "outputs": [
    {
     "data": {
      "text/plain": [
       "'F:\\\\python'"
      ]
     },
     "execution_count": 76,
     "metadata": {},
     "output_type": "execute_result"
    }
   ],
   "source": [
    "pwd()"
   ]
  },
  {
   "cell_type": "code",
   "execution_count": 82,
   "metadata": {},
   "outputs": [
    {
     "name": "stdout",
     "output_type": "stream",
     "text": [
      "200 OK\n",
      "{'Server': 'akka-http/10.0.5', 'Date': 'Mon, 01 Oct 2018 05:33:20 GMT', 'Content-Type': 'application/json', 'Content-Length': '635'}\n",
      "{\n",
      "  \"outputs\": {\n",
      "    \"scores\": {\n",
      "      \"dtype\": \"DT_FLOAT\",\n",
      "      \"tensorShape\": {\n",
      "        \"dim\": [{\n",
      "          \"size\": \"1\"\n",
      "        }, {\n",
      "          \"size\": \"5\"\n",
      "        }]\n",
      "      },\n",
      "      \"floatVal\": [9.017718, 4.285762, 4.0180683, 3.6086514, 3.3328376]\n",
      "    },\n",
      "    \"classes\": {\n",
      "      \"dtype\": \"DT_STRING\",\n",
      "      \"tensorShape\": {\n",
      "        \"dim\": [{\n",
      "          \"size\": \"1\"\n",
      "        }, {\n",
      "          \"size\": \"5\"\n",
      "        }]\n",
      "      },\n",
      "      \"stringVal\": [\"Z29sZGVuIHJldHJpZXZlcg==\", \"SXJpc2ggc2V0dGVyLCByZWQgc2V0dGVy\", \"U3Vzc2V4IHNwYW5pZWw=\", \"TGFicmFkb3IgcmV0cmlldmVy\", \"Y29ja2VyIHNwYW5pZWwsIEVuZ2xpc2ggY29ja2VyIHNwYW5pZWwsIGNvY2tlcg==\"]\n",
      "    }\n",
      "  }\n",
      "}\n"
     ]
    }
   ],
   "source": [
    "## \n",
    "\n",
    "import requests\n",
    "\n",
    "model_url = 'http://143.248.92.116:8002/model/predict_images/images'\n",
    "\n",
    "with open('./dog.jpg', 'rb') as jpeg_file:\n",
    "    jpeg_bytes = jpeg_file.read()\n",
    "    rsp = requests.post(model_url, data=jpeg_bytes,\n",
    "                        headers={'Content-Type': 'image/jpeg'})\n",
    "    print(rsp.status_code, rsp.reason)\n",
    "    print(rsp.headers)\n",
    "    print(rsp.text)\n"
   ]
  }
 ],
 "metadata": {
  "kernelspec": {
   "display_name": "Python 3",
   "language": "python",
   "name": "python3"
  },
  "language_info": {
   "codemirror_mode": {
    "name": "ipython",
    "version": 3
   },
   "file_extension": ".py",
   "mimetype": "text/x-python",
   "name": "python",
   "nbconvert_exporter": "python",
   "pygments_lexer": "ipython3",
   "version": "3.6.3"
  }
 },
 "nbformat": 4,
 "nbformat_minor": 2
}
