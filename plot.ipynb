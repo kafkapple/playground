{
 "cells": [
  {
   "cell_type": "code",
   "execution_count": null,
   "metadata": {
    "collapsed": true
   },
   "outputs": [],
   "source": [
    "import matplotlib.pyplot as plt\n",
    "%matplotlib inline\n",
    "\n",
    "from sklearn.model_selection import train_test_split\n",
    "x_train, x_test, y_train, y_test = train_test_split(x, y, test_size = 0.2, shuffle = True, random_state=33)\n",
    "\n",
    "n_fig = 100\n",
    "\n",
    "n_row = int(np.sqrt(n_fig))\n",
    "n_col = int(n_fig/n_row)+1\n",
    "fig, axes = plt.subplots(n_row ,n_col, figsize=(10, 15))\n",
    "axes = axes.flatten()\n",
    "#np.random.choice\n",
    "#np.random.choice(5, 5, replace=False)\n",
    "n_diff = n_row*n_col-n_fig\n",
    "bias =0\n",
    "# fer ck cam\n",
    "\n",
    "for i in range(n_fig):\n",
    "    axes[i].imshow(x_train[i+bias], cmap = 'gray')\n",
    "    axes[i].axis('off')\n",
    "    axes[i].set(title=y_train[i+bias] )\n",
    "    \n",
    "for j in range(n_diff):\n",
    "    axes[n_fig+j].axis('off')\n",
    "    \n",
    "    \n"
   ]
  }
 ],
 "metadata": {
  "kernelspec": {
   "display_name": "Python 3",
   "language": "python",
   "name": "python3"
  },
  "language_info": {
   "codemirror_mode": {
    "name": "ipython",
    "version": 3
   },
   "file_extension": ".py",
   "mimetype": "text/x-python",
   "name": "python",
   "nbconvert_exporter": "python",
   "pygments_lexer": "ipython3",
   "version": "3.6.3"
  }
 },
 "nbformat": 4,
 "nbformat_minor": 2
}
