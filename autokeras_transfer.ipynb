{
 "cells": [
  {
   "cell_type": "code",
   "execution_count": 1,
   "metadata": {},
   "outputs": [
    {
     "name": "stderr",
     "output_type": "stream",
     "text": [
      "C:\\ProgramData\\Anaconda3\\lib\\site-packages\\h5py\\__init__.py:34: FutureWarning: Conversion of the second argument of issubdtype from `float` to `np.floating` is deprecated. In future, it will be treated as `np.float64 == np.dtype(float).type`.\n",
      "  from ._conv import register_converters as _register_converters\n",
      "Using TensorFlow backend.\n"
     ]
    },
    {
     "name": "stdout",
     "output_type": "stream",
     "text": [
      "F:\\python\n"
     ]
    }
   ],
   "source": [
    "\n",
    "import os\n",
    "import glob\n",
    "import numpy as np\n",
    "import pandas as pd\n",
    "import cv2\n",
    "\n",
    "from sklearn.metrics import confusion_matrix #classification_report\n",
    "from keras.preprocessing.image import ImageDataGenerator\n",
    "from keras.models import Sequential\n",
    "from keras.layers import Dense, Flatten, Dropout, Activation\n",
    "from keras.layers.convolutional import Conv2D, MaxPooling2D\n",
    "from keras.layers.normalization import BatchNormalization\n",
    "\n",
    "import keras\n",
    "from keras.utils import np_utils\n",
    "from keras.utils.vis_utils import plot_model\n",
    "from keras.losses import categorical_crossentropy\n",
    "from keras.optimizers import Adam\n",
    "from keras.models import model_from_json\n",
    "from keras.models import load_model\n",
    "from keras.utils.generic_utils import CustomObjectScope\n",
    "\n",
    "from keras.callbacks import EarlyStopping, TensorBoard\n",
    "\n",
    "import matplotlib.pyplot as plt\n",
    "%matplotlib inline  \n",
    "# for jupyter notebook enviornment. \n",
    "\n",
    "\n",
    "from sklearn.model_selection import train_test_split\n",
    "from sklearn.metrics import confusion_matrix #classification_report\n",
    "import itertools  # for confusion matrix plot\n",
    "\n",
    "from PIL import Image as pil_image\n",
    "\n",
    "\n",
    "#import tensorflow as tf\n",
    "#from tensorflow.python.framework import ops\n",
    "from keras import backend as K\n",
    "\n",
    "#path = '/python/DDSA/fer/fer2013/'\n",
    "class_label = ['angry', 'happy','neutral']\n",
    "\n",
    "n_class = len(class_label)\n",
    "\n",
    "path = '/python/'  # location\n",
    "os.chdir(path)\n",
    "\n",
    "img_size = 48  # fer data size. 48 x 48\n",
    "target_size = 48 #197 # minimum data size for specific net such as Inception, VGG, ResNet ...\n",
    "\n",
    "epochs = 30  # n of times of training using entire data\n",
    "batch_size = 16\n",
    "\n",
    "import autokeras as ak\n",
    "import os\n",
    "import numpy as np\n",
    "import random\n",
    "#from autokeras.classifier import load_image_dataset\n",
    "#os.chdir('/content/drive/tmp/face/') # change directory\n",
    "print(os.getcwd())\n"
   ]
  },
  {
   "cell_type": "code",
   "execution_count": 12,
   "metadata": {
    "collapsed": true
   },
   "outputs": [],
   "source": [
    "def plot_hist(hist):\n",
    "    plt.figure(0)\n",
    "    fig, loss_ax = plt.subplots()\n",
    "    acc_ax = loss_ax.twinx()\n",
    "\n",
    "    loss_ax.plot(hist.history['loss'], 'y', label='train loss')\n",
    "    loss_ax.plot(hist.history['val_loss'], 'r', label='val loss')\n",
    "    loss_ax.set_xlabel('epoch')\n",
    "    loss_ax.set_ylabel('loss')\n",
    "    loss_ax.legend(loc='upper left')\n",
    "\n",
    "    acc_ax.plot(hist.history['acc'], 'b', label='train acc')\n",
    "    acc_ax.plot(hist.history['val_acc'], 'g', label='val acc')\n",
    "    acc_ax.set_ylabel('accuracy')\n",
    "    acc_ax.legend(loc='lower left')\n",
    "\n",
    "    plt.show()\n",
    "    plt.savefig('loss_accuracy_plot')\n",
    "    plt.close()\n",
    "\n",
    "# Make and plot confusion matrix. To see the detailed imformation about TP, TN of each classes.    \n",
    "def make_confusion_matrix(model, x, y, normalize = True):\n",
    "    predicted = model.predict(x)\n",
    "\n",
    "    pred_list = []; actual_list = []\n",
    "    for i in predicted:\n",
    "        pred_list.append(np.argmax(i))\n",
    "    for i in y:\n",
    "        actual_list.append(np.argmax(i))\n",
    "\n",
    "    confusion_result = confusion_matrix(actual_list, pred_list)\n",
    "    plot_confusion_matrix(confusion_result, classes = class_label, normalize = normalize, title = 'Confusion_matrix')\n",
    "    return confusion_result\n",
    "\n",
    "def plot_confusion_matrix(cm, classes,\n",
    "                          normalize = False,\n",
    "                          title = 'Confusion matrix',\n",
    "                          cmap = plt.cm.Blues):  \n",
    "    if normalize:\n",
    "        cm = cm.astype('float') / cm.sum(axis = 1)[:, np.newaxis]\n",
    "        print(\"normalized\")\n",
    "    else:\n",
    "        print('without normalization')\n",
    "\n",
    "    print(cm)\n",
    "    plt.figure(1)\n",
    "    plt.imshow(cm, interpolation='nearest', cmap = cmap)\n",
    "    plt.title(title)\n",
    "    plt.colorbar()\n",
    "    tick_marks = np.arange(len(classes))\n",
    "    plt.xticks(tick_marks, classes, rotation=45)\n",
    "    plt.yticks(tick_marks, classes)\n",
    "\n",
    "    fmt = '.2f' if normalize else 'd'\n",
    "    thresh = cm.max() / 2.\n",
    "    \n",
    "    for i, j in itertools.product(range(cm.shape[0]), range(cm.shape[1])):\n",
    "        plt.text(j, i, format(cm[i, j], fmt),\n",
    "                 horizontalalignment = \"center\",\n",
    "                 color = \"white\" if cm[i, j] > thresh else \"black\")\n",
    "\n",
    "    plt.tight_layout()\n",
    "    plt.ylabel('True label')\n",
    "    plt.xlabel('Predicted label')\n",
    "    plt.savefig('Confusion_matrix')\n",
    "    \n",
    "def data_arrange(x_data,y_data):\n",
    "    # data class re-arrange\n",
    "    \n",
    "    # Angry vs neutral vs happy case\n",
    "    x_angry = x_data[y_data==0]\n",
    "    x_happy = x_data[y_data==3]\n",
    "    x_neutral = x_data[y_data==6]\n",
    "    \n",
    "    y_angry = y_data[y_data==0]\n",
    "    y_happy = y_data[y_data==3]\n",
    "    y_neutral = y_data[y_data==6]\n",
    "    \n",
    "    # number of happy samples are twice  \n",
    "    # To avoid class distribution bias. use only 50% sample of happy class\n",
    "    x_happy_use, x_no, y_happy_use, y_no = train_test_split(x_happy, y_happy, test_size = 0.5, shuffle = True, random_state=33)\n",
    "    \n",
    "    #print('Before normalize:{a}\\n'.format(a= x_angry[0]))\n",
    "    xx = np.concatenate((x_angry, x_happy_use, x_neutral),axis=0)/255.0 #concatenate & normalized\n",
    "    yy = np.concatenate((y_angry, y_happy_use, y_neutral), axis=0)\n",
    "    yy[yy==3]=1\n",
    "    yy[yy==6]=2\n",
    "    \n",
    "    xx = xx.reshape(-1, img_size,img_size,1)\n",
    "    #xx = np.stack((xx,)*3, -1 )  # to make fake RGB channel\n",
    "    yy = np_utils.to_categorical(yy, n_class)\n",
    "    print('After normalize x:{a} y:{b}\\n'.format(a= xx.shape, b=yy.shape))     \n",
    "\n",
    "    return xx, yy\n",
    "\n",
    "def sample_plot(x_test, y_test):\n",
    "    x_angry = x_test[y_test==0]\n",
    "    a_f = np.squeeze(x_angry[1])\n",
    "    plt.imshow(a_f, cmap='gray')\n",
    "    "
   ]
  },
  {
   "cell_type": "code",
   "execution_count": 14,
   "metadata": {},
   "outputs": [
    {
     "name": "stdout",
     "output_type": "stream",
     "text": [
      "After normalize x:(18589, 48, 48, 1) y:(18589, 3)\n",
      "\n"
     ]
    }
   ],
   "source": [
    "# data load\n",
    "os.chdir('/python')\n",
    "x_data = np.load('./x_data.npy')\n",
    "y_data = np.load('./y_data.npy')\n",
    "\n",
    "# 2. arrange the data. shape change, use specific class only, ...\n",
    "x_data, y_data = data_arrange(x_data, y_data)\n",
    "\n",
    "# 3. train / test split\n",
    "x_train, x_test, y_train, y_test = train_test_split(x_data, y_data, test_size = 0.2, shuffle = True, random_state=33)\n",
    "#np.shape(x_train)\n"
   ]
  },
  {
   "cell_type": "code",
   "execution_count": 8,
   "metadata": {},
   "outputs": [
    {
     "name": "stdout",
     "output_type": "stream",
     "text": [
      "<bound method ImageClassifier.get_best_model_id of <autokeras.image_classifier.ImageClassifier object at 0x000000001F73A0F0>>\n"
     ]
    }
   ],
   "source": [
    "os.chdir('/python/autokeras')\n",
    "apple = ak.image_classifier.ImageClassifier(verbose = True, searcher_args={'trainer_args':{'max_iter_num':1}}, path = './', resume=True)\n",
    "searcher = apple.load_searcher()\n",
    "#searcher.history\n",
    "#apple.path\n",
    "best_id = apple.get_best_model_id\n",
    "print(best_id)\n",
    "graph = searcher.load_best_model()\n",
    "\n",
    "loaded_model = graph.produce_keras_model()   # convert model from torch to keras\n",
    "\n",
    "#graph = searcher.load_best_model()\n",
    "\n",
    "loaded_model.compile(loss = categorical_crossentropy,\n",
    "                      optimizer = Adam(lr = 0.001, beta_1 = 0.9, beta_2 = 0.999, epsilon = 1e-7),\n",
    "                      metrics = ['accuracy'])\n",
    "\n",
    "early_stopping = EarlyStopping(monitor = 'val_acc', min_delta = 0.001, patience = 20, \n",
    "                                       verbose = 1, mode = 'max')\n",
    "    "
   ]
  },
  {
   "cell_type": "code",
   "execution_count": 16,
   "metadata": {},
   "outputs": [
    {
     "name": "stdout",
     "output_type": "stream",
     "text": [
      "without normalization\n",
      "[[  53   49 1201]\n",
      " [  26   45 1042]\n",
      " [  46   31 1225]]\n"
     ]
    },
    {
     "data": {
      "image/png": "[encoded data removed]",
      "text/plain": [
       "<Figure size 432x288 with 2 Axes>"
      ]
     },
     "metadata": {},
     "output_type": "display_data"
    }
   ],
   "source": [
    "confusion_result = make_confusion_matrix(loaded_model, x_test, y_test, normalize = False) "
   ]
  },
  {
   "cell_type": "code",
   "execution_count": null,
   "metadata": {
    "collapsed": true
   },
   "outputs": [],
   "source": []
  },
  {
   "cell_type": "code",
   "execution_count": 18,
   "metadata": {
    "collapsed": true
   },
   "outputs": [],
   "source": [
    "loaded_model.save('ak_3class.h5')"
   ]
  },
  {
   "cell_type": "code",
   "execution_count": 19,
   "metadata": {},
   "outputs": [
    {
     "name": "stdout",
     "output_type": "stream",
     "text": [
      "Train on 11896 samples, validate on 2975 samples\n",
      "Epoch 1/30\n",
      "11896/11896 [==============================] - 684s 58ms/step - loss: 0.7559 - acc: 0.6725 - val_loss: 0.6308 - val_acc: 0.7294\n",
      "Epoch 2/30\n",
      "11896/11896 [==============================] - 760s 64ms/step - loss: 0.6262 - acc: 0.7419 - val_loss: 0.5700 - val_acc: 0.7627\n",
      "Epoch 3/30\n",
      "11896/11896 [==============================] - 752s 63ms/step - loss: 0.5696 - acc: 0.7656 - val_loss: 0.5710 - val_acc: 0.7640\n",
      "Epoch 4/30\n",
      "11896/11896 [==============================] - 754s 63ms/step - loss: 0.5224 - acc: 0.7851 - val_loss: 0.5319 - val_acc: 0.7788\n",
      "Epoch 5/30\n",
      "11896/11896 [==============================] - 754s 63ms/step - loss: 0.4912 - acc: 0.7945 - val_loss: 0.5533 - val_acc: 0.7818\n",
      "Epoch 6/30\n",
      "11896/11896 [==============================] - 750s 63ms/step - loss: 0.4649 - acc: 0.8127 - val_loss: 0.5396 - val_acc: 0.7845\n",
      "Epoch 7/30\n",
      "11896/11896 [==============================] - 766s 64ms/step - loss: 0.4329 - acc: 0.8254 - val_loss: 0.5336 - val_acc: 0.7859\n",
      "Epoch 8/30\n",
      "11896/11896 [==============================] - 852s 72ms/step - loss: 0.4067 - acc: 0.8364 - val_loss: 0.5238 - val_acc: 0.7906\n",
      "Epoch 9/30\n",
      "11896/11896 [==============================] - 872s 73ms/step - loss: 0.3805 - acc: 0.8473 - val_loss: 0.5289 - val_acc: 0.7832\n",
      "Epoch 10/30\n",
      "11896/11896 [==============================] - 872s 73ms/step - loss: 0.3620 - acc: 0.8561 - val_loss: 0.5344 - val_acc: 0.7872\n",
      "Epoch 11/30\n",
      "11896/11896 [==============================] - 863s 73ms/step - loss: 0.3409 - acc: 0.8646 - val_loss: 0.5473 - val_acc: 0.7906\n",
      "Epoch 12/30\n",
      "11896/11896 [==============================] - 756s 64ms/step - loss: 0.3168 - acc: 0.8739 - val_loss: 0.5499 - val_acc: 0.7872\n",
      "Epoch 13/30\n",
      "11896/11896 [==============================] - 754s 63ms/step - loss: 0.3027 - acc: 0.8810 - val_loss: 0.5477 - val_acc: 0.7906\n",
      "Epoch 14/30\n",
      "11896/11896 [==============================] - 757s 64ms/step - loss: 0.2920 - acc: 0.8837 - val_loss: 0.5538 - val_acc: 0.7919\n",
      "Epoch 15/30\n",
      "11896/11896 [==============================] - 710s 60ms/step - loss: 0.2674 - acc: 0.8946 - val_loss: 0.5944 - val_acc: 0.7993\n",
      "Epoch 16/30\n",
      "11896/11896 [==============================] - 701s 59ms/step - loss: 0.2523 - acc: 0.9016 - val_loss: 0.6233 - val_acc: 0.7906\n",
      "Epoch 17/30\n",
      "11896/11896 [==============================] - 700s 59ms/step - loss: 0.2618 - acc: 0.8979 - val_loss: 0.5718 - val_acc: 0.7829\n",
      "Epoch 18/30\n",
      "11896/11896 [==============================] - 702s 59ms/step - loss: 0.2292 - acc: 0.9102 - val_loss: 0.6176 - val_acc: 0.7946\n",
      "Epoch 19/30\n",
      "11896/11896 [==============================] - 743s 62ms/step - loss: 0.2230 - acc: 0.9132 - val_loss: 0.5836 - val_acc: 0.7946\n",
      "Epoch 20/30\n",
      "11896/11896 [==============================] - 777s 65ms/step - loss: 0.2184 - acc: 0.9145 - val_loss: 0.6007 - val_acc: 0.7936\n",
      "Epoch 21/30\n",
      "11896/11896 [==============================] - 791s 66ms/step - loss: 0.1934 - acc: 0.9248 - val_loss: 0.6689 - val_acc: 0.7896\n",
      "Epoch 22/30\n",
      "11896/11896 [==============================] - 776s 65ms/step - loss: 0.1917 - acc: 0.9254 - val_loss: 0.6372 - val_acc: 0.7936\n",
      "Epoch 23/30\n",
      "11896/11896 [==============================] - 770s 65ms/step - loss: 0.1901 - acc: 0.9246 - val_loss: 0.6564 - val_acc: 0.7825\n",
      "Epoch 24/30\n",
      "11896/11896 [==============================] - 721s 61ms/step - loss: 0.1846 - acc: 0.9269 - val_loss: 0.7293 - val_acc: 0.7768\n",
      "Epoch 25/30\n",
      "11896/11896 [==============================] - 786s 66ms/step - loss: 0.1731 - acc: 0.9336 - val_loss: 0.6893 - val_acc: 0.7916\n",
      "Epoch 26/30\n",
      "11896/11896 [==============================] - 839s 71ms/step - loss: 0.1785 - acc: 0.9310 - val_loss: 0.6771 - val_acc: 0.7825\n",
      "Epoch 27/30\n",
      "11896/11896 [==============================] - 800s 67ms/step - loss: 0.1698 - acc: 0.9344 - val_loss: 0.6921 - val_acc: 0.7923\n",
      "Epoch 28/30\n",
      "11896/11896 [==============================] - 788s 66ms/step - loss: 0.1668 - acc: 0.9355 - val_loss: 0.7229 - val_acc: 0.7866\n",
      "Epoch 29/30\n",
      "11896/11896 [==============================] - 785s 66ms/step - loss: 0.1579 - acc: 0.9401 - val_loss: 0.7357 - val_acc: 0.7933\n",
      "Epoch 30/30\n",
      "11896/11896 [==============================] - 687s 58ms/step - loss: 0.1535 - acc: 0.9421 - val_loss: 0.7315 - val_acc: 0.7923\n",
      "3718/3718 [==============================] - 67s 18ms/step\n"
     ]
    }
   ],
   "source": [
    "hist = loaded_model.fit(x_train, y_train, validation_split = 0.2, shuffle=True, batch_size=16, epochs=30, verbose=1,callbacks = [early_stopping] )\n",
    "        \n",
    "scores = loaded_model.evaluate(x_test, y_test, batch_size=16)      \n"
   ]
  },
  {
   "cell_type": "code",
   "execution_count": 20,
   "metadata": {},
   "outputs": [
    {
     "name": "stdout",
     "output_type": "stream",
     "text": [
      "normalized\n",
      "[[0.77513431 0.04144282 0.18342287]\n",
      " [0.09703504 0.80952381 0.09344115]\n",
      " [0.11981567 0.07373272 0.80645161]]\n"
     ]
    },
    {
     "data": {
      "image/png": "[encoded data removed]",
      "text/plain": [
       "<Figure size 432x288 with 2 Axes>"
      ]
     },
     "metadata": {},
     "output_type": "display_data"
    }
   ],
   "source": [
    "confusion_result = make_confusion_matrix(loaded_model, x_test, y_test, normalize = True) "
   ]
  },
  {
   "cell_type": "code",
   "execution_count": 21,
   "metadata": {
    "collapsed": true
   },
   "outputs": [],
   "source": [
    "loaded_model.save('ak_3-class_trained.h5')"
   ]
  },
  {
   "cell_type": "code",
   "execution_count": 22,
   "metadata": {
    "collapsed": true
   },
   "outputs": [],
   "source": [
    "loaded_model.save_weights('ak_3-class_weights.h5')"
   ]
  },
  {
   "cell_type": "code",
   "execution_count": 32,
   "metadata": {},
   "outputs": [
    {
     "name": "stdout",
     "output_type": "stream",
     "text": [
      "Found 156 images belonging to 3 classes.\n",
      "Found 58 images belonging to 3 classes.\n"
     ]
    }
   ],
   "source": [
    "data_path = '/0GoogleDrive/tmp/cam_face/'\n",
    "train_datagen = ImageDataGenerator(\n",
    "        featurewise_center=False,  # set input mean to 0 over the dataset\n",
    "        samplewise_center=False,  # set each sample mean to 0\n",
    "        featurewise_std_normalization=False,  # divide inputs by std of the dataset\n",
    "        samplewise_std_normalization=False,  # divide each input by its std\n",
    "        zca_whitening=False,  # apply ZCA whitening\n",
    "        zca_epsilon=1e-06,  # epsilon for ZCA whitening\n",
    "        rotation_range=0,  # randomly rotate images in the range (degrees, 0 to 180)\n",
    "        # randomly shift images horizontally (fraction of total width)\n",
    "        width_shift_range=0.1,\n",
    "        # randomly shift images vertically (fraction of total height)\n",
    "        height_shift_range=0.1,\n",
    "        shear_range=0.,  # set range for random shear\n",
    "        zoom_range=0.,  # set range for random zoom\n",
    "        channel_shift_range=0.,  # set range for random channel shifts\n",
    "        # set mode for filling points outside the input boundaries\n",
    "        fill_mode='nearest',\n",
    "        cval=0.,  # value used for fill_mode = \"constant\"\n",
    "        horizontal_flip=True,  # randomly flip images\n",
    "        vertical_flip=False,  # randomly flip images\n",
    "        # set rescaling factor (applied before any other transformation)\n",
    "        rescale=None,\n",
    "        # set function that will be applied on each input\n",
    "        preprocessing_function=None,\n",
    "        # image data format, either \"channels_first\" or \"channels_last\"\n",
    "        data_format=None,\n",
    "        # fraction of images reserved for validation (strictly between 0 and 1)\n",
    "        validation_split=0)\n",
    "\n",
    "test_datagen = ImageDataGenerator()\n",
    "\n",
    "train_generator = train_datagen.flow_from_directory(\n",
    "        data_path+'train',\n",
    "        target_size=(48, 48),\n",
    "        batch_size=16, color_mode = 'grayscale',\n",
    "        class_mode='categorical')#, save_to_dir = './',save_prefix='aug')\n",
    "\n",
    "validation_generator = test_datagen.flow_from_directory(\n",
    "        data_path+'validation',\n",
    "        target_size=(48, 48),\n",
    "        batch_size=16, color_mode = 'grayscale',\n",
    "        class_mode='categorical')\n",
    "\n",
    "early_stopping = EarlyStopping(monitor = 'val_acc', min_delta = 0.001, patience = 20, \n",
    "                                       verbose = 1, mode = 'max')"
   ]
  },
  {
   "cell_type": "code",
   "execution_count": 25,
   "metadata": {},
   "outputs": [
    {
     "name": "stdout",
     "output_type": "stream",
     "text": [
      "_________________________________________________________________\n",
      "Layer (type)                 Output Shape              Param #   \n",
      "=================================================================\n",
      "input_1 (InputLayer)         (None, 48, 48, 1)         0         \n",
      "_________________________________________________________________\n",
      "activation_1 (Activation)    (None, 48, 48, 1)         0         \n",
      "_________________________________________________________________\n",
      "conv2d_1 (Conv2D)            (None, 48, 48, 64)        640       \n",
      "_________________________________________________________________\n",
      "batch_normalization_1 (Batch (None, 48, 48, 64)        256       \n",
      "_________________________________________________________________\n",
      "spatial_dropout2d_1 (Spatial (None, 48, 48, 64)        0         \n",
      "_________________________________________________________________\n",
      "activation_5 (Activation)    (None, 48, 48, 64)        0         \n",
      "_________________________________________________________________\n",
      "conv2d_4 (Conv2D)            (None, 48, 48, 64)        36928     \n",
      "_________________________________________________________________\n",
      "batch_normalization_4 (Batch (None, 48, 48, 64)        256       \n",
      "_________________________________________________________________\n",
      "spatial_dropout2d_4 (Spatial (None, 48, 48, 64)        0         \n",
      "_________________________________________________________________\n",
      "max_pooling2d_1 (MaxPooling2 (None, 24, 24, 64)        0         \n",
      "_________________________________________________________________\n",
      "activation_2 (Activation)    (None, 24, 24, 64)        0         \n",
      "_________________________________________________________________\n",
      "conv2d_2 (Conv2D)            (None, 24, 24, 128)       73856     \n",
      "_________________________________________________________________\n",
      "batch_normalization_2 (Batch (None, 24, 24, 128)       512       \n",
      "_________________________________________________________________\n",
      "spatial_dropout2d_2 (Spatial (None, 24, 24, 128)       0         \n",
      "_________________________________________________________________\n",
      "max_pooling2d_2 (MaxPooling2 (None, 12, 12, 128)       0         \n",
      "_________________________________________________________________\n",
      "activation_3 (Activation)    (None, 12, 12, 128)       0         \n",
      "_________________________________________________________________\n",
      "conv2d_3 (Conv2D)            (None, 12, 12, 64)        73792     \n",
      "_________________________________________________________________\n",
      "batch_normalization_3 (Batch (None, 12, 12, 64)        256       \n",
      "_________________________________________________________________\n",
      "spatial_dropout2d_3 (Spatial (None, 12, 12, 64)        0         \n",
      "_________________________________________________________________\n",
      "max_pooling2d_3 (MaxPooling2 (None, 6, 6, 64)          0         \n",
      "_________________________________________________________________\n",
      "flatten_1 (Flatten)          (None, 2304)              0         \n",
      "_________________________________________________________________\n",
      "dense_1 (Dense)              (None, 3)                 6915      \n",
      "_________________________________________________________________\n",
      "activation_4 (Activation)    (None, 3)                 0         \n",
      "=================================================================\n",
      "Total params: 193,411\n",
      "Trainable params: 192,771\n",
      "Non-trainable params: 640\n",
      "_________________________________________________________________\n"
     ]
    }
   ],
   "source": [
    "loaded_model.summary()"
   ]
  },
  {
   "cell_type": "code",
   "execution_count": 33,
   "metadata": {},
   "outputs": [
    {
     "name": "stdout",
     "output_type": "stream",
     "text": [
      "Epoch 1/10\n",
      "30/30 [==============================] - 23s 776ms/step - loss: 0.2391 - acc: 0.9049 - val_loss: 0.3953 - val_acc: 0.9138\n",
      "Epoch 2/10\n",
      "30/30 [==============================] - 23s 771ms/step - loss: 0.1565 - acc: 0.9556 - val_loss: 0.2761 - val_acc: 0.9310\n",
      "Epoch 3/10\n",
      "30/30 [==============================] - 23s 768ms/step - loss: 0.0976 - acc: 0.9632 - val_loss: 0.2737 - val_acc: 0.9310\n",
      "Epoch 4/10\n",
      "30/30 [==============================] - 23s 768ms/step - loss: 0.0920 - acc: 0.9660 - val_loss: 0.2663 - val_acc: 0.9483\n",
      "Epoch 5/10\n",
      "30/30 [==============================] - 23s 777ms/step - loss: 0.0879 - acc: 0.9660 - val_loss: 0.2166 - val_acc: 0.9483\n",
      "Epoch 6/10\n",
      "30/30 [==============================] - 23s 772ms/step - loss: 0.0539 - acc: 0.9785 - val_loss: 0.2644 - val_acc: 0.9483\n",
      "Epoch 7/10\n",
      "30/30 [==============================] - 23s 768ms/step - loss: 0.0552 - acc: 0.9854 - val_loss: 0.2824 - val_acc: 0.9310\n",
      "Epoch 8/10\n",
      "30/30 [==============================] - 23s 765ms/step - loss: 0.0483 - acc: 0.9875 - val_loss: 0.2622 - val_acc: 0.9483\n",
      "Epoch 9/10\n",
      "30/30 [==============================] - 23s 772ms/step - loss: 0.0719 - acc: 0.9750 - val_loss: 0.2231 - val_acc: 0.9483\n",
      "Epoch 10/10\n",
      "30/30 [==============================] - 23s 775ms/step - loss: 0.0527 - acc: 0.9785 - val_loss: 0.2434 - val_acc: 0.9310\n"
     ]
    }
   ],
   "source": [
    "batch_size=16\n",
    "hist = loaded_model.fit_generator(\n",
    "        train_generator,\n",
    "        steps_per_epoch=30,\n",
    "        epochs=10,\n",
    "        validation_data=validation_generator,\n",
    "        validation_steps=10,callbacks = [early_stopping])"
   ]
  },
  {
   "cell_type": "code",
   "execution_count": 35,
   "metadata": {
    "collapsed": true
   },
   "outputs": [],
   "source": [
    "loaded_model.save('ak_3class_transfer.h5')"
   ]
  },
  {
   "cell_type": "code",
   "execution_count": 34,
   "metadata": {},
   "outputs": [
    {
     "name": "stdout",
     "output_type": "stream",
     "text": [
      "normalized\n",
      "[[1. 0. 0.]\n",
      " [1. 0. 0.]\n",
      " [1. 0. 0.]]\n"
     ]
    },
    {
     "data": {
      "image/png": "[encoded data removed]",
      "text/plain": [
       "<Figure size 432x288 with 2 Axes>"
      ]
     },
     "metadata": {},
     "output_type": "display_data"
    }
   ],
   "source": [
    "confusion_result = make_confusion_matrix(loaded_model, x_test, y_test, normalize = True) "
   ]
  }
 ],
 "metadata": {
  "kernelspec": {
   "display_name": "Python 3",
   "language": "python",
   "name": "python3"
  },
  "language_info": {
   "codemirror_mode": {
    "name": "ipython",
    "version": 3
   },
   "file_extension": ".py",
   "mimetype": "text/x-python",
   "name": "python",
   "nbconvert_exporter": "python",
   "pygments_lexer": "ipython3",
   "version": "3.6.3"
  }
 },
 "nbformat": 4,
 "nbformat_minor": 2
}
