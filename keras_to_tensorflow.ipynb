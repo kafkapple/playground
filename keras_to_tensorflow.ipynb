{
 "cells": [
  {
   "cell_type": "code",
   "execution_count": 1,
   "metadata": {},
   "outputs": [
    {
     "name": "stderr",
     "output_type": "stream",
     "text": [
      "C:\\ProgramData\\Anaconda3\\lib\\site-packages\\h5py\\__init__.py:34: FutureWarning: Conversion of the second argument of issubdtype from `float` to `np.floating` is deprecated. In future, it will be treated as `np.float64 == np.dtype(float).type`.\n",
      "  from ._conv import register_converters as _register_converters\n",
      "Using TensorFlow backend.\n"
     ]
    },
    {
     "ename": "AssertionError",
     "evalue": "Export directory already exists. Please specify a different export directory: ./convert_model/1",
     "output_type": "error",
     "traceback": [
      "\u001b[1;31m---------------------------------------------------------------------------\u001b[0m",
      "\u001b[1;31mAssertionError\u001b[0m                            Traceback (most recent call last)",
      "\u001b[1;32m<ipython-input-1-1b08e5538807>\u001b[0m in \u001b[0;36m<module>\u001b[1;34m()\u001b[0m\n\u001b[0;32m     17\u001b[0m         \u001b[0mexport_path\u001b[0m\u001b[1;33m,\u001b[0m\u001b[1;33m\u001b[0m\u001b[0m\n\u001b[0;32m     18\u001b[0m         \u001b[0minputs\u001b[0m\u001b[1;33m=\u001b[0m\u001b[1;33m{\u001b[0m\u001b[1;34m'input_image'\u001b[0m\u001b[1;33m:\u001b[0m \u001b[0mmodel\u001b[0m\u001b[1;33m.\u001b[0m\u001b[0minput\u001b[0m\u001b[1;33m}\u001b[0m\u001b[1;33m,\u001b[0m\u001b[1;33m\u001b[0m\u001b[0m\n\u001b[1;32m---> 19\u001b[1;33m         outputs={t.name:t for t in model.outputs})\n\u001b[0m",
      "\u001b[1;32mC:\\ProgramData\\Anaconda3\\lib\\site-packages\\tensorflow\\python\\saved_model\\simple_save.py\u001b[0m in \u001b[0;36msimple_save\u001b[1;34m(session, export_dir, inputs, outputs, legacy_init_op)\u001b[0m\n\u001b[0;32m     76\u001b[0m           \u001b[0msignature_def_utils\u001b[0m\u001b[1;33m.\u001b[0m\u001b[0mpredict_signature_def\u001b[0m\u001b[1;33m(\u001b[0m\u001b[0minputs\u001b[0m\u001b[1;33m,\u001b[0m \u001b[0moutputs\u001b[0m\u001b[1;33m)\u001b[0m\u001b[1;33m\u001b[0m\u001b[0m\n\u001b[0;32m     77\u001b[0m   }\n\u001b[1;32m---> 78\u001b[1;33m   \u001b[0mb\u001b[0m \u001b[1;33m=\u001b[0m \u001b[0mbuilder\u001b[0m\u001b[1;33m.\u001b[0m\u001b[0mSavedModelBuilder\u001b[0m\u001b[1;33m(\u001b[0m\u001b[0mexport_dir\u001b[0m\u001b[1;33m)\u001b[0m\u001b[1;33m\u001b[0m\u001b[0m\n\u001b[0m\u001b[0;32m     79\u001b[0m   b.add_meta_graph_and_variables(\n\u001b[0;32m     80\u001b[0m       \u001b[0msession\u001b[0m\u001b[1;33m,\u001b[0m\u001b[1;33m\u001b[0m\u001b[0m\n",
      "\u001b[1;32mC:\\ProgramData\\Anaconda3\\lib\\site-packages\\tensorflow\\python\\saved_model\\builder_impl.py\u001b[0m in \u001b[0;36m__init__\u001b[1;34m(self, export_dir)\u001b[0m\n\u001b[0;32m     88\u001b[0m       raise AssertionError(\n\u001b[0;32m     89\u001b[0m           \u001b[1;34m\"Export directory already exists. Please specify a different export \"\u001b[0m\u001b[1;33m\u001b[0m\u001b[0m\n\u001b[1;32m---> 90\u001b[1;33m           \"directory: %s\" % export_dir)\n\u001b[0m\u001b[0;32m     91\u001b[0m \u001b[1;33m\u001b[0m\u001b[0m\n\u001b[0;32m     92\u001b[0m     \u001b[0mfile_io\u001b[0m\u001b[1;33m.\u001b[0m\u001b[0mrecursive_create_dir\u001b[0m\u001b[1;33m(\u001b[0m\u001b[0mself\u001b[0m\u001b[1;33m.\u001b[0m\u001b[0m_export_dir\u001b[0m\u001b[1;33m)\u001b[0m\u001b[1;33m\u001b[0m\u001b[0m\n",
      "\u001b[1;31mAssertionError\u001b[0m: Export directory already exists. Please specify a different export directory: ./convert_model/1"
     ]
    }
   ],
   "source": [
    "import tensorflow as tf\n",
    "import keras as k\n",
    "name = '/github/fer/model/models/ak31_32.h5'\n",
    "\n",
    "# Ignore dropout at inference\n",
    "k.backend.set_learning_phase(0)\n",
    "model = k.models.load_model(name)\n",
    "\n",
    "export_path = './convert_model/1'\n",
    "#k.backend.get_session()\n",
    "# Fetch the Keras session and save the model\n",
    "# The signature definition is defined by the input and output tensors\n",
    "# And stored with the default serving key\n",
    "with k.backend.get_session() as sess:\n",
    "    tf.saved_model.simple_save(\n",
    "        sess,\n",
    "        export_path,\n",
    "        inputs={'input_image': model.input},\n",
    "        outputs={t.name:t for t in model.outputs})"
   ]
  },
  {
   "cell_type": "code",
   "execution_count": 2,
   "metadata": {},
   "outputs": [
    {
     "name": "stdout",
     "output_type": "stream",
     "text": [
      "\n",
      "MetaGraphDef with tag-set: 'serve' contains the following SignatureDefs:\n",
      "\n",
      "signature_def['serving_default']:\n",
      "  The given SavedModel SignatureDef contains the following input(s):\n",
      "    inputs['input_image'] tensor_info:\n",
      "        dtype: DT_FLOAT\n",
      "        shape: (-1, 48, 48, 1)\n",
      "        name: input_1:0\n",
      "  The given SavedModel SignatureDef contains the following output(s):\n",
      "    outputs['activation_4/Softmax:0'] tensor_info:\n",
      "        dtype: DT_FLOAT\n",
      "        shape: (-1, 3)\n",
      "        name: activation_4/Softmax:0\n",
      "  Method name is: tensorflow/serving/predict\n"
     ]
    },
    {
     "name": "stderr",
     "output_type": "stream",
     "text": [
      "c:\\programdata\\anaconda3\\lib\\site-packages\\h5py\\__init__.py:34: FutureWarning: Conversion of the second argument of issubdtype from `float` to `np.floating` is deprecated. In future, it will be treated as `np.float64 == np.dtype(float).type`.\n",
      "  from ._conv import register_converters as _register_converters\n"
     ]
    }
   ],
   "source": [
    "## show model signature\n",
    "\n",
    "import os\n",
    "#os.chdir('/python/')\n",
    "os.chdir('./convert_model/1/')\n",
    "! saved_model_cli show --dir ./ --all\n"
   ]
  },
  {
   "cell_type": "code",
   "execution_count": 3,
   "metadata": {},
   "outputs": [
    {
     "name": "stdout",
     "output_type": "stream",
     "text": [
      "\n",
      "MetaGraphDef with tag-set: 'serve' contains the following SignatureDefs:\n",
      "\n",
      "signature_def['predict_images']:\n",
      "  The given SavedModel SignatureDef contains the following input(s):\n",
      "    inputs['images'] tensor_info:\n",
      "        dtype: DT_STRING\n",
      "        shape: (-1)\n",
      "        name: ParseExample/ParseExample:0\n",
      "  The given SavedModel SignatureDef contains the following output(s):\n",
      "    outputs['classes'] tensor_info:\n",
      "        dtype: DT_STRING\n",
      "        shape: (-1, 5)\n",
      "        name: index_to_string_Lookup:0\n",
      "    outputs['scores'] tensor_info:\n",
      "        dtype: DT_FLOAT\n",
      "        shape: (-1, 5)\n",
      "        name: TopKV2:0\n",
      "  Method name is: tensorflow/serving/predict\n",
      "\n",
      "signature_def['serving_default']:\n",
      "  The given SavedModel SignatureDef contains the following input(s):\n",
      "    inputs['inputs'] tensor_info:\n",
      "        dtype: DT_STRING\n",
      "        shape: unknown_rank\n",
      "        name: tf_example:0\n",
      "  The given SavedModel SignatureDef contains the following output(s):\n",
      "    outputs['classes'] tensor_info:\n",
      "        dtype: DT_STRING\n",
      "        shape: (-1, 5)\n",
      "        name: index_to_string_Lookup:0\n",
      "    outputs['scores'] tensor_info:\n",
      "        dtype: DT_FLOAT\n",
      "        shape: (-1, 5)\n",
      "        name: TopKV2:0\n",
      "  Method name is: tensorflow/serving/classify\n"
     ]
    },
    {
     "name": "stderr",
     "output_type": "stream",
     "text": [
      "c:\\programdata\\anaconda3\\lib\\site-packages\\h5py\\__init__.py:34: FutureWarning: Conversion of the second argument of issubdtype from `float` to `np.floating` is deprecated. In future, it will be treated as `np.float64 == np.dtype(float).type`.\n",
      "  from ._conv import register_converters as _register_converters\n"
     ]
    }
   ],
   "source": [
    "import os\n",
    "path_inception = '/Download\\ksb_toolbox_v0_8.tar\\ksb-csle\\examples\\models\\inception\\model/1/'\n",
    "os.chdir(path_inception)\n",
    "os.getcwd()\n",
    "! saved_model_cli show --dir ./ --all"
   ]
  },
  {
   "cell_type": "code",
   "execution_count": 4,
   "metadata": {},
   "outputs": [
    {
     "name": "stderr",
     "output_type": "stream",
     "text": [
      "c:\\programdata\\anaconda3\\lib\\site-packages\\h5py\\__init__.py:34: FutureWarning: Conversion of the second argument of issubdtype from `float` to `np.floating` is deprecated. In future, it will be treated as `np.float64 == np.dtype(float).type`.\n",
      "  from ._conv import register_converters as _register_converters\n",
      "Traceback (most recent call last):\n",
      "  File \"c:\\programdata\\anaconda3\\lib\\runpy.py\", line 193, in _run_module_as_main\n",
      "    \"__main__\", mod_spec)\n",
      "  File \"c:\\programdata\\anaconda3\\lib\\runpy.py\", line 85, in _run_code\n",
      "    exec(code, run_globals)\n",
      "  File \"C:\\ProgramData\\Anaconda3\\Scripts\\saved_model_cli.exe\\__main__.py\", line 9, in <module>\n",
      "  File \"c:\\programdata\\anaconda3\\lib\\site-packages\\tensorflow\\python\\tools\\saved_model_cli.py\", line 801, in main\n",
      "    args.func(args)\n",
      "  File \"c:\\programdata\\anaconda3\\lib\\site-packages\\tensorflow\\python\\tools\\saved_model_cli.py\", line 634, in run\n",
      "    args.overwrite, tf_debug=args.tf_debug)\n",
      "  File \"c:\\programdata\\anaconda3\\lib\\site-packages\\tensorflow\\python\\tools\\saved_model_cli.py\", line 314, in run_saved_model_with_feed_dict\n",
      "    (input_key_name, '\"' + '\", \"'.join(inputs_tensor_info.keys()) + '\"'))\n",
      "ValueError: \"input_image\" is not a valid input key. Please choose from \"inputs\", or use --show option.\n"
     ]
    }
   ],
   "source": [
    "# Sanity check / prediction test using sample data \n",
    "\n",
    "! saved_model_cli run --dir ./ --tag_set serve --signature_def serving_default --inputs input_image=/python/data/x1.npy"
   ]
  },
  {
   "cell_type": "code",
   "execution_count": 34,
   "metadata": {},
   "outputs": [
    {
     "data": {
      "text/plain": [
       "'F:\\\\python\\\\convert_model\\\\1'"
      ]
     },
     "execution_count": 34,
     "metadata": {},
     "output_type": "execute_result"
    }
   ],
   "source": [
    "pwd()"
   ]
  },
  {
   "cell_type": "code",
   "execution_count": null,
   "metadata": {
    "collapsed": true
   },
   "outputs": [],
   "source": [
    "# show model graph using tensor board / 경우에 따라 안되는듯? 1.민영/진영님 변환한 pb 는 잘 동작. \n",
    "\n",
    "from tensorflow.python.platform import gfile\n",
    "\n",
    "with k.backend.get_session() as sess:\n",
    "    #model_filename ='./output_graph.pb'\n",
    "    model_filename = './convert_model/1/saved_model.pb'\n",
    "    with gfile.FastGFile(model_filename, 'rb') as f:\n",
    "        graph_def = tf.GraphDef()\n",
    "        graph_def.ParseFromString(f.read())\n",
    "        g_in = tf.import_graph_def(graph_def)\n",
    "LOGDIR='log'\n",
    "train_writer = tf.summary.FileWriter(LOGDIR)\n",
    "train_writer.add_graph(sess.graph)\n",
    "\n",
    "from tensorflow.python.saved_model import signature_def_utils\n",
    "signature_def_utils.is_valid_signature()\n",
    "#sess.graph_def # json 형태로 구조 확인"
   ]
  }
 ],
 "metadata": {
  "kernelspec": {
   "display_name": "Python 3",
   "language": "python",
   "name": "python3"
  },
  "language_info": {
   "codemirror_mode": {
    "name": "ipython",
    "version": 3
   },
   "file_extension": ".py",
   "mimetype": "text/x-python",
   "name": "python",
   "nbconvert_exporter": "python",
   "pygments_lexer": "ipython3",
   "version": "3.6.3"
  }
 },
 "nbformat": 4,
 "nbformat_minor": 2
}
