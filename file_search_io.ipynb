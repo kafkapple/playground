{
 "cells": [
  {
   "cell_type": "code",
   "execution_count": null,
   "metadata": {
    "collapsed": true
   },
   "outputs": [],
   "source": [
    "import os\n",
    "import glob \n",
    "#now_path = '/Data/fer_ck_cam_3_img/webcam_data/'\n",
    "now_path = '/Data/fer_ck_cam_3_img/fer_3class/'\n",
    "count=0\n",
    "os.chdir(now_path)\n",
    "\n",
    "lists = os.listdir() # \n",
    "\n",
    "temp1=[]\n",
    "temp2=[]\n",
    "temp3=[]\n",
    "for (path, dir, files) in os.walk(now_path):\n",
    "    temp1.append(path)\n",
    "    temp2.append(dir)\n",
    "    temp3.append(files)\n",
    "    \n",
    "    print(len(glob.glob(path+'/*.png')))\n",
    "    for filename in files:\n",
    "        ext = os.path.splitext(filename)[-1]\n",
    "        #print(ext)\n",
    "        if ext == '.png':\n",
    "            \n",
    "            count+=1\n",
    "            #print(\"%s/%s\" % (path, filename))\n",
    "            \n",
    "print(count)\n"
   ]
  }
 ],
 "metadata": {
  "kernelspec": {
   "display_name": "Python 3",
   "language": "python",
   "name": "python3"
  },
  "language_info": {
   "codemirror_mode": {
    "name": "ipython",
    "version": 3
   },
   "file_extension": ".py",
   "mimetype": "text/x-python",
   "name": "python",
   "nbconvert_exporter": "python",
   "pygments_lexer": "ipython3",
   "version": "3.6.3"
  }
 },
 "nbformat": 4,
 "nbformat_minor": 2
}
